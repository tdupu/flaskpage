{
 "cells": [
  {
   "cell_type": "code",
   "execution_count": 1,
   "metadata": {},
   "outputs": [],
   "source": [
    "#This command needs to be run from the auth environment or it won't run.\n",
    "#from project import db, create_app\n",
    "#db.create_all(app=create_app())"
   ]
  },
  {
   "cell_type": "code",
   "execution_count": 16,
   "metadata": {},
   "outputs": [],
   "source": [
    "import sys\n",
    "sys.path.append('./..')"
   ]
  },
  {
   "cell_type": "code",
   "execution_count": 17,
   "metadata": {},
   "outputs": [],
   "source": [
    "############################\n",
    "\n",
    "import sys\n",
    "from werkzeug.security import generate_password_hash, check_password_hash\n",
    "\n",
    "sys.path.append('/users/taylordupuy/Documents/web-development/dev/excel_tools')\n",
    "sys.path.append('/users/taylordupuy/Documents/web-development/dev/email_tools')\n",
    "\n",
    "from table_editor import SheetObject\n",
    "\n",
    "R=SheetObject('/users/taylordupuy/Documents/web-development/data/algebra-one/20/f/roster.xlsx','roster')\n",
    "S=SheetObject('/users/taylordupuy/Documents/web-development/data/algebra-one/20/f/roster.xlsx','submissions')\n",
    "A=SheetObject('/users/taylordupuy/Documents/web-development/data/algebra-one/20/f/roster.xlsx','assignments')"
   ]
  },
  {
   "cell_type": "code",
   "execution_count": 18,
   "metadata": {},
   "outputs": [],
   "source": [
    "from database_declarative import Base, User, Submission, Problem, Course\n",
    "from sqlalchemy import create_engine\n",
    "import numpy as np\n",
    "from email_functions import *\n",
    "from sqlalchemy import or_, and_\n",
    "\n",
    "engine = create_engine('sqlite:///db.sqlite')\n",
    "#engine = create_engine('sqlite:///flaskpage_database.db')\n",
    "Base.metadata.bind = engine\n",
    "from sqlalchemy.orm import sessionmaker\n",
    "DBSession = sessionmaker()\n",
    "DBSession.bind = engine\n",
    "session = DBSession()"
   ]
  },
  {
   "cell_type": "code",
   "execution_count": 19,
   "metadata": {},
   "outputs": [],
   "source": [
    "def is_reviewed(s):\n",
    "    return s.review1_timestamp>-1 and s.review2_timestamp>-1\n",
    "\n",
    "def is_complete(s):\n",
    "    if is_reviewed(s):\n",
    "        a=s.assignment\n",
    "        p=s.problem\n",
    "        r1 = s.reviewer1\n",
    "        r2 = s.reviewer2\n",
    "        subs = session.query(Submission).filter( and_(or_(Submission.netid==r1,Submission.netid==r2),Submission.assignment ==a,Submission.problem ==p))\n",
    "        if is_reviewed(subs[0]) and is_reviewed(subs[1]):\n",
    "            return True\n",
    "        else: \n",
    "            return False\n",
    "    else:\n",
    "        return False\n",
    "    \n",
    "def get_grade(user,ass):\n",
    "    \"\"\"\n",
    "    get_grade('yshi9',1)\n",
    "    7.875473484848484\n",
    "    \"\"\"\n",
    "    subs=session.query(Submission).filter( and_(Submission.netid==user, Submission.assignment==ass))\n",
    "    subs = sorted(subs, key=lambda s: s.total_score2)\n",
    "    return np.mean([s.total_score2 for s in subs[0:2]])"
   ]
  },
  {
   "cell_type": "code",
   "execution_count": 20,
   "metadata": {},
   "outputs": [],
   "source": [
    "\"\"\"\n",
    "# Insert an Address in the address table\n",
    "algebra = Course(\n",
    "    coursename = 'algebra-one',\n",
    "    year=20,\n",
    "    term = 'f', #F=Fall, S=Spring, U=Summer,\n",
    "    coursenumber = 'Math 251', #used to be class\n",
    "    uvm_course = 1,\n",
    "    zulipurl = 'https://uvm-mathematics.zulipchat.com',\n",
    "    zuliprc = '',\n",
    "    homepage = 'https://www.uvm.edu/~tdupuy/',\n",
    "    size = 0\n",
    ")\n",
    "session.add(algebra)\n",
    "session.commit()\n",
    "\"\"\"\n",
    "# Insert an Address in the address table\n",
    "algebraic_topology = Course(\n",
    "    coursename = 'algebraic-topology',\n",
    "    year=20,\n",
    "    term = 'f', #F=Fall, S=Spring, U=Summer,\n",
    "    coursenumber = 'Math 354', #used to be class\n",
    "    uvm_course = 1,\n",
    "    zulipurl = 'https://uvm-mathematics.zulipchat.com',\n",
    "    zuliprc = '',\n",
    "    homepage = 'https://www.uvm.edu/~tdupuy/',\n",
    "    size = 0\n",
    ")\n",
    "session.add(algebraic_topology)\n",
    "session.commit()\n"
   ]
  },
  {
   "cell_type": "code",
   "execution_count": 21,
   "metadata": {},
   "outputs": [
    {
     "data": {
      "text/plain": [
       "'f'"
      ]
     },
     "execution_count": 21,
     "metadata": {},
     "output_type": "execute_result"
    }
   ],
   "source": [
    "session.query(Course).all()[0].term\n",
    "#session.delete(session.query(Course).first())"
   ]
  },
  {
   "cell_type": "code",
   "execution_count": 6,
   "metadata": {},
   "outputs": [
    {
     "data": {
      "text/plain": [
       "\"\\nfrom sqlalchemy.ext.declarative import DeclarativeMeta\\n\\nclass AlchemyEncoder(json.JSONEncoder):\\n\\n    def default(self, obj):\\n        if isinstance(obj.__class__, DeclarativeMeta):\\n            # an SQLAlchemy class\\n            fields = {}\\n            for field in [x for x in dir(obj) if not x.startswith('_') and x != 'metadata']:\\n                data = obj.__getattribute__(field)\\n                try:\\n                    json.dumps(data) # this will fail on non-encodable values, like other classes\\n                    fields[field] = data\\n                except TypeError:\\n                    fields[field] = None\\n            # a json-encodable dict\\n            return fields\\n\\n        return json.JSONEncoder.default(self, obj)\\n    \""
      ]
     },
     "execution_count": 6,
     "metadata": {},
     "output_type": "execute_result"
    }
   ],
   "source": [
    "\"\"\"\n",
    "from sqlalchemy.ext.declarative import DeclarativeMeta\n",
    "\n",
    "class AlchemyEncoder(json.JSONEncoder):\n",
    "\n",
    "    def default(self, obj):\n",
    "        if isinstance(obj.__class__, DeclarativeMeta):\n",
    "            # an SQLAlchemy class\n",
    "            fields = {}\n",
    "            for field in [x for x in dir(obj) if not x.startswith('_') and x != 'metadata']:\n",
    "                data = obj.__getattribute__(field)\n",
    "                try:\n",
    "                    json.dumps(data) # this will fail on non-encodable values, like other classes\n",
    "                    fields[field] = data\n",
    "                except TypeError:\n",
    "                    fields[field] = None\n",
    "            # a json-encodable dict\n",
    "            return fields\n",
    "\n",
    "        return json.JSONEncoder.default(self, obj)\n",
    "    \"\"\""
   ]
  },
  {
   "cell_type": "code",
   "execution_count": 8,
   "metadata": {},
   "outputs": [
    {
     "data": {
      "text/plain": [
       "[]"
      ]
     },
     "execution_count": 8,
     "metadata": {},
     "output_type": "execute_result"
    }
   ],
   "source": [
    "session.query(User).all()"
   ]
  },
  {
   "cell_type": "code",
   "execution_count": 8,
   "metadata": {},
   "outputs": [],
   "source": [
    "myusers = R.get({})\n",
    "\n",
    "# Insert a Person in the person table\n",
    "for x in myusers:\n",
    "    new_person = User(\n",
    "        name = x['name'],\n",
    "        pronoun=x['pronoun'],\n",
    "        uvm_student=1,\n",
    "        student_id = x['student_id'],\n",
    "        courses = 'algebra-one/f/20',\n",
    "        major = x['major'],\n",
    "        degree = x['degree'],\n",
    "        credits = x['credits'],\n",
    "        reg_status = x['reg_status'],\n",
    "        reg_data = x['reg_data'],\n",
    "        email = x['email'],\n",
    "        netid = x['netid'],\n",
    "        password = generate_password_hash(x['password'],method='sha256'),\n",
    "    )\n",
    "    session.add(new_person)\n",
    "\n",
    "session.commit()"
   ]
  },
  {
   "cell_type": "code",
   "execution_count": 10,
   "metadata": {},
   "outputs": [
    {
     "data": {
      "text/plain": [
       "['ddeckers',\n",
       " 'yhao3',\n",
       " 'chliberm',\n",
       " 'tdupuy',\n",
       " 'swan',\n",
       " 'ttamang',\n",
       " 'eepearso',\n",
       " 'mkbeck',\n",
       " 'agilland',\n",
       " 'rabbott1',\n",
       " 'gwonnell',\n",
       " 'sdavis38',\n",
       " 'rgoldma1',\n",
       " 'acreigh2',\n",
       " 'hvercess',\n",
       " 'tfbloom',\n",
       " 'jwang49',\n",
       " 'rtdownin',\n",
       " 'asilence',\n",
       " 'cdecours',\n",
       " 'keveronn',\n",
       " 'phunter1',\n",
       " 'nhanoian',\n",
       " 'whuang3',\n",
       " 'cbremner',\n",
       " 'hgal',\n",
       " 'yohno',\n",
       " 'qsheng1',\n",
       " 'she1',\n",
       " 'moconno7',\n",
       " 'hpeng1',\n",
       " 'whe3',\n",
       " 'hmagee',\n",
       " 'yshi9',\n",
       " 'rsantell',\n",
       " 'dwoods2']"
      ]
     },
     "execution_count": 10,
     "metadata": {},
     "output_type": "execute_result"
    }
   ],
   "source": [
    "#session.delete(session.query(User).first())\n",
    "[user.netid for user in session.query(User).all()]"
   ]
  },
  {
   "cell_type": "code",
   "execution_count": 9,
   "metadata": {},
   "outputs": [],
   "source": [
    "myproblems = A.get({})\n",
    "\n",
    "for x in myproblems:\n",
    "    new_problem = Problem(\n",
    "    coursename = 'algebra-one', #algebra-one, algebraic-topology, agittoc1, agittoc2, agittoc3\n",
    "    year = 2020,\n",
    "    term = 'f', #f=Fall, s=Spring, u=Summer\n",
    "    assignment = x['assignment'],\n",
    "    problem = x['problem'],\n",
    "    #references = x['']\n",
    "    )\n",
    "    session.add(new_problem)\n",
    "    session.commit()"
   ]
  },
  {
   "cell_type": "code",
   "execution_count": 26,
   "metadata": {},
   "outputs": [],
   "source": [
    "mysubs = S.get({})\n",
    "for x in mysubs:\n",
    "    new_sub = Submission(\n",
    "        coursename = 'algebra-one',\n",
    "        year = '2020',\n",
    "        term = 'f',\n",
    "        submission_number = x['submission_number'],\n",
    "        submission_locked = x['submission_locked'],\n",
    "        netid = x['netid'],\n",
    "        email = x['netid'] + \"@uvm.edu\",\n",
    "        assignment = x['assignment'],\n",
    "        problem = x['problem'],\n",
    "        closed = x['closed'],\n",
    "        submission_time = x['submission_time'],\n",
    "        total_score1 = x['total_score1'],\n",
    "        total_score2 = x['total_score2'],\n",
    "        reviewer1_assignment_time =x['reviewer1_assignment_time'],\n",
    "        reviewer1 = x['reviewer1'],\n",
    "        reviewer1_email = '',\n",
    "        reviewer1_score = x['reviewer1_score'],\n",
    "        review1 = x['review1'],\n",
    "        review1_timestamp = x['review1_timestamp'],\n",
    "        review1_locked = x['review1_locked'],\n",
    "        reviewer2_assignment_time =x['reviewer2_assignment_time'],\n",
    "        reviewer2 = x['reviewer2'],\n",
    "        reviewer2_email = '',\n",
    "        reviewer2_score = x['reviewer2_score'],\n",
    "        review2 = x['review2'],\n",
    "        review2_timestamp = x['review2_timestamp'],\n",
    "        review2_locked = x['review2_locked'],\n",
    "        new_submission = x['new_submission'],\n",
    "        new_match = x['new_match'],\n",
    "        new_review1 = x['new_review1'],\n",
    "        new_review2 = x['new_review2'],\n",
    "        new_completion = x['new_completion']\n",
    "        )\n",
    "    session.add(new_sub)\n",
    "\n",
    "session.commit()"
   ]
  },
  {
   "cell_type": "code",
   "execution_count": 27,
   "metadata": {},
   "outputs": [
    {
     "data": {
      "text/plain": [
       "[<database_declarative.Submission at 0x11e0358d0>,\n",
       " <database_declarative.Submission at 0x11e035278>,\n",
       " <database_declarative.Submission at 0x11e035c18>,\n",
       " <database_declarative.Submission at 0x11e0354e0>,\n",
       " <database_declarative.Submission at 0x11e035c50>,\n",
       " <database_declarative.Submission at 0x11e035978>,\n",
       " <database_declarative.Submission at 0x11e035518>,\n",
       " <database_declarative.Submission at 0x11f2d50f0>,\n",
       " <database_declarative.Submission at 0x11f2d5470>,\n",
       " <database_declarative.Submission at 0x11f36ceb8>,\n",
       " <database_declarative.Submission at 0x11f36ca90>,\n",
       " <database_declarative.Submission at 0x11f36c518>,\n",
       " <database_declarative.Submission at 0x11f36c048>,\n",
       " <database_declarative.Submission at 0x11f36ce48>,\n",
       " <database_declarative.Submission at 0x11f36c9e8>,\n",
       " <database_declarative.Submission at 0x11f36c400>,\n",
       " <database_declarative.Submission at 0x11f2be438>,\n",
       " <database_declarative.Submission at 0x11f2be4e0>,\n",
       " <database_declarative.Submission at 0x11f2be978>,\n",
       " <database_declarative.Submission at 0x11e210ef0>,\n",
       " <database_declarative.Submission at 0x11e210e48>,\n",
       " <database_declarative.Submission at 0x11e210a20>,\n",
       " <database_declarative.Submission at 0x11e210470>,\n",
       " <database_declarative.Submission at 0x11e2101d0>,\n",
       " <database_declarative.Submission at 0x11e210550>,\n",
       " <database_declarative.Submission at 0x11e210fd0>,\n",
       " <database_declarative.Submission at 0x11e210ac8>,\n",
       " <database_declarative.Submission at 0x11e210278>,\n",
       " <database_declarative.Submission at 0x11e234e48>,\n",
       " <database_declarative.Submission at 0x11e234c18>,\n",
       " <database_declarative.Submission at 0x11ef9a6a0>,\n",
       " <database_declarative.Submission at 0x11f2d5390>,\n",
       " <database_declarative.Submission at 0x11f2d5710>,\n",
       " <database_declarative.Submission at 0x11e234b38>,\n",
       " <database_declarative.Submission at 0x11e234a90>,\n",
       " <database_declarative.Submission at 0x11e234978>,\n",
       " <database_declarative.Submission at 0x11e234780>,\n",
       " <database_declarative.Submission at 0x11e234630>,\n",
       " <database_declarative.Submission at 0x11e234240>,\n",
       " <database_declarative.Submission at 0x11e234160>,\n",
       " <database_declarative.Submission at 0x11e2345f8>,\n",
       " <database_declarative.Submission at 0x11e234d68>,\n",
       " <database_declarative.Submission at 0x11e234cc0>,\n",
       " <database_declarative.Submission at 0x11e234400>,\n",
       " <database_declarative.Submission at 0x11e2345c0>,\n",
       " <database_declarative.Submission at 0x11e234358>,\n",
       " <database_declarative.Submission at 0x11e234470>,\n",
       " <database_declarative.Submission at 0x11e234ac8>,\n",
       " <database_declarative.Submission at 0x11df82f98>,\n",
       " <database_declarative.Submission at 0x11df82dd8>,\n",
       " <database_declarative.Submission at 0x11df82c50>,\n",
       " <database_declarative.Submission at 0x11df82b70>,\n",
       " <database_declarative.Submission at 0x11df82b00>,\n",
       " <database_declarative.Submission at 0x11df82940>,\n",
       " <database_declarative.Submission at 0x11df82828>,\n",
       " <database_declarative.Submission at 0x11df82748>,\n",
       " <database_declarative.Submission at 0x11df826d8>,\n",
       " <database_declarative.Submission at 0x11df825c0>,\n",
       " <database_declarative.Submission at 0x11df824e0>,\n",
       " <database_declarative.Submission at 0x11df82438>,\n",
       " <database_declarative.Submission at 0x11df82278>,\n",
       " <database_declarative.Submission at 0x11df82160>,\n",
       " <database_declarative.Submission at 0x11df820b8>,\n",
       " <database_declarative.Submission at 0x11df82da0>,\n",
       " <database_declarative.Submission at 0x11df82358>,\n",
       " <database_declarative.Submission at 0x11df82eb8>,\n",
       " <database_declarative.Submission at 0x11df82ac8>,\n",
       " <database_declarative.Submission at 0x11df82320>,\n",
       " <database_declarative.Submission at 0x11df82e48>,\n",
       " <database_declarative.Submission at 0x11df82c18>,\n",
       " <database_declarative.Submission at 0x11df82978>,\n",
       " <database_declarative.Submission at 0x11df82e10>,\n",
       " <database_declarative.Submission at 0x11df82588>,\n",
       " <database_declarative.Submission at 0x11df82630>,\n",
       " <database_declarative.Submission at 0x11df82128>,\n",
       " <database_declarative.Submission at 0x11df82e80>,\n",
       " <database_declarative.Submission at 0x11df82898>,\n",
       " <database_declarative.Submission at 0x11df82cf8>,\n",
       " <database_declarative.Submission at 0x11df32d68>,\n",
       " <database_declarative.Submission at 0x11df32c88>,\n",
       " <database_declarative.Submission at 0x11df32be0>,\n",
       " <database_declarative.Submission at 0x11df32a20>,\n",
       " <database_declarative.Submission at 0x11df328d0>,\n",
       " <database_declarative.Submission at 0x11df32668>,\n",
       " <database_declarative.Submission at 0x11df32588>,\n",
       " <database_declarative.Submission at 0x11df324e0>,\n",
       " <database_declarative.Submission at 0x11df32240>,\n",
       " <database_declarative.Submission at 0x11df32198>,\n",
       " <database_declarative.Submission at 0x11df32080>,\n",
       " <database_declarative.Submission at 0x11df32f98>,\n",
       " <database_declarative.Submission at 0x11df32748>,\n",
       " <database_declarative.Submission at 0x11df32eb8>,\n",
       " <database_declarative.Submission at 0x11df32390>,\n",
       " <database_declarative.Submission at 0x11df32d30>,\n",
       " <database_declarative.Submission at 0x11df32b00>,\n",
       " <database_declarative.Submission at 0x11df32da0>,\n",
       " <database_declarative.Submission at 0x11df326a0>,\n",
       " <database_declarative.Submission at 0x11df32978>,\n",
       " <database_declarative.Submission at 0x11df327b8>,\n",
       " <database_declarative.Submission at 0x11df32358>,\n",
       " <database_declarative.Submission at 0x11f51cc18>,\n",
       " <database_declarative.Submission at 0x11f51c978>,\n",
       " <database_declarative.Submission at 0x11f51c8d0>,\n",
       " <database_declarative.Submission at 0x11f51c6d8>,\n",
       " <database_declarative.Submission at 0x11f51c588>,\n",
       " <database_declarative.Submission at 0x11f51c2b0>,\n",
       " <database_declarative.Submission at 0x11f51c198>,\n",
       " <database_declarative.Submission at 0x11f51c080>,\n",
       " <database_declarative.Submission at 0x11f51c828>,\n",
       " <database_declarative.Submission at 0x11f51ca58>,\n",
       " <database_declarative.Submission at 0x11f51cc88>,\n",
       " <database_declarative.Submission at 0x11f51cb00>,\n",
       " <database_declarative.Submission at 0x11f51c550>,\n",
       " <database_declarative.Submission at 0x11f51c320>,\n",
       " <database_declarative.Submission at 0x11f51c1d0>,\n",
       " <database_declarative.Submission at 0x11f51c0b8>,\n",
       " <database_declarative.Submission at 0x11e214f28>,\n",
       " <database_declarative.Submission at 0x11e214d30>,\n",
       " <database_declarative.Submission at 0x11e214c88>,\n",
       " <database_declarative.Submission at 0x11e214a90>,\n",
       " <database_declarative.Submission at 0x11e2149e8>,\n",
       " <database_declarative.Submission at 0x11e214908>,\n",
       " <database_declarative.Submission at 0x11e214860>,\n",
       " <database_declarative.Submission at 0x11e214588>,\n",
       " <database_declarative.Submission at 0x11e214438>,\n",
       " <database_declarative.Submission at 0x11e214208>,\n",
       " <database_declarative.Submission at 0x11e214128>,\n",
       " <database_declarative.Submission at 0x11e214898>,\n",
       " <database_declarative.Submission at 0x11e2141d0>,\n",
       " <database_declarative.Submission at 0x11e214c18>,\n",
       " <database_declarative.Submission at 0x11e2147b8>,\n",
       " <database_declarative.Submission at 0x11e214358>,\n",
       " <database_declarative.Submission at 0x11e214e10>,\n",
       " <database_declarative.Submission at 0x11e2146d8>,\n",
       " <database_declarative.Submission at 0x11e214978>,\n",
       " <database_declarative.Submission at 0x11e214da0>,\n",
       " <database_declarative.Submission at 0x11e214d68>,\n",
       " <database_declarative.Submission at 0x11e214320>,\n",
       " <database_declarative.Submission at 0x11df4af60>,\n",
       " <database_declarative.Submission at 0x11df4ad30>,\n",
       " <database_declarative.Submission at 0x11df4ac50>,\n",
       " <database_declarative.Submission at 0x11df4aa20>,\n",
       " <database_declarative.Submission at 0x11df4a7f0>,\n",
       " <database_declarative.Submission at 0x11df4a588>,\n",
       " <database_declarative.Submission at 0x11df4a2e8>,\n",
       " <database_declarative.Submission at 0x11df4a1d0>,\n",
       " <database_declarative.Submission at 0x11df4a048>,\n",
       " <database_declarative.Submission at 0x11df4af98>,\n",
       " <database_declarative.Submission at 0x11df4a9b0>,\n",
       " <database_declarative.Submission at 0x11df4a550>,\n",
       " <database_declarative.Submission at 0x11df4a8d0>,\n",
       " <database_declarative.Submission at 0x11df4a438>,\n",
       " <database_declarative.Submission at 0x11df4a4a8>,\n",
       " <database_declarative.Submission at 0x11df4ab38>,\n",
       " <database_declarative.Submission at 0x11df4a400>,\n",
       " <database_declarative.Submission at 0x11df9d4a8>,\n",
       " <database_declarative.Submission at 0x11df9d2e8>,\n",
       " <database_declarative.Submission at 0x11df9d550>,\n",
       " <database_declarative.Submission at 0x11df9db70>,\n",
       " <database_declarative.Submission at 0x11df9dd68>,\n",
       " <database_declarative.Submission at 0x11df9ddd8>,\n",
       " <database_declarative.Submission at 0x11df9d828>,\n",
       " <database_declarative.Submission at 0x11df9d7b8>,\n",
       " <database_declarative.Submission at 0x11df94c50>,\n",
       " <database_declarative.Submission at 0x11df948d0>,\n",
       " <database_declarative.Submission at 0x11df94cf8>,\n",
       " <database_declarative.Submission at 0x11df946a0>,\n",
       " <database_declarative.Submission at 0x11df94400>,\n",
       " <database_declarative.Submission at 0x11df945f8>,\n",
       " <database_declarative.Submission at 0x11df94940>,\n",
       " <database_declarative.Submission at 0x11df94ef0>,\n",
       " <database_declarative.Submission at 0x11df94668>,\n",
       " <database_declarative.Submission at 0x11df94be0>,\n",
       " <database_declarative.Submission at 0x11df94828>,\n",
       " <database_declarative.Submission at 0x11df942e8>,\n",
       " <database_declarative.Submission at 0x11df94978>,\n",
       " <database_declarative.Submission at 0x11df94278>,\n",
       " <database_declarative.Submission at 0x11df949e8>,\n",
       " <database_declarative.Submission at 0x11df94470>,\n",
       " <database_declarative.Submission at 0x11df94438>,\n",
       " <database_declarative.Submission at 0x11df94c18>,\n",
       " <database_declarative.Submission at 0x11df947f0>,\n",
       " <database_declarative.Submission at 0x11df94320>,\n",
       " <database_declarative.Submission at 0x11df94908>,\n",
       " <database_declarative.Submission at 0x11df94cc0>,\n",
       " <database_declarative.Submission at 0x11df94a90>,\n",
       " <database_declarative.Submission at 0x11df943c8>,\n",
       " <database_declarative.Submission at 0x11df94e80>,\n",
       " <database_declarative.Submission at 0x11df94d30>,\n",
       " <database_declarative.Submission at 0x11df94f98>,\n",
       " <database_declarative.Submission at 0x11df94358>,\n",
       " <database_declarative.Submission at 0x11df94ba8>,\n",
       " <database_declarative.Submission at 0x11df94a58>,\n",
       " <database_declarative.Submission at 0x11df94710>,\n",
       " <database_declarative.Submission at 0x11df944a8>,\n",
       " <database_declarative.Submission at 0x11df552e8>,\n",
       " <database_declarative.Submission at 0x11df55860>,\n",
       " <database_declarative.Submission at 0x11df55f28>,\n",
       " <database_declarative.Submission at 0x11df55358>,\n",
       " <database_declarative.Submission at 0x11df550f0>,\n",
       " <database_declarative.Submission at 0x11df55780>,\n",
       " <database_declarative.Submission at 0x11df559b0>,\n",
       " <database_declarative.Submission at 0x11df55518>,\n",
       " <database_declarative.Submission at 0x11df55438>,\n",
       " <database_declarative.Submission at 0x11df557b8>,\n",
       " <database_declarative.Submission at 0x11df55d68>,\n",
       " <database_declarative.Submission at 0x11df55048>,\n",
       " <database_declarative.Submission at 0x11df552b0>,\n",
       " <database_declarative.Submission at 0x11df55ac8>,\n",
       " <database_declarative.Submission at 0x11df558d0>,\n",
       " <database_declarative.Submission at 0x11df55c88>,\n",
       " <database_declarative.Submission at 0x11df557f0>,\n",
       " <database_declarative.Submission at 0x11df55fd0>,\n",
       " <database_declarative.Submission at 0x11e1dc400>,\n",
       " <database_declarative.Submission at 0x11e1dc438>,\n",
       " <database_declarative.Submission at 0x11e1dc4e0>,\n",
       " <database_declarative.Submission at 0x11e1dc390>,\n",
       " <database_declarative.Submission at 0x11e1dc2b0>,\n",
       " <database_declarative.Submission at 0x11e1dc048>,\n",
       " <database_declarative.Submission at 0x11e1dc630>,\n",
       " <database_declarative.Submission at 0x11e1dc780>,\n",
       " <database_declarative.Submission at 0x11e1dc278>,\n",
       " <database_declarative.Submission at 0x11e1dc1d0>,\n",
       " <database_declarative.Submission at 0x11e1dc908>,\n",
       " <database_declarative.Submission at 0x11e1dc978>,\n",
       " <database_declarative.Submission at 0x11e1dc2e8>,\n",
       " <database_declarative.Submission at 0x11e1dc080>,\n",
       " <database_declarative.Submission at 0x11e1dcb00>,\n",
       " <database_declarative.Submission at 0x11e1dca90>,\n",
       " <database_declarative.Submission at 0x11e1dcbe0>,\n",
       " <database_declarative.Submission at 0x11e1dcb70>,\n",
       " <database_declarative.Submission at 0x11e1dccc0>,\n",
       " <database_declarative.Submission at 0x11e1dcc50>,\n",
       " <database_declarative.Submission at 0x11e1dcda0>,\n",
       " <database_declarative.Submission at 0x11e1dcd30>,\n",
       " <database_declarative.Submission at 0x11e1dce80>,\n",
       " <database_declarative.Submission at 0x11e1dce10>,\n",
       " <database_declarative.Submission at 0x11e1dcf60>,\n",
       " <database_declarative.Submission at 0x11e1dcef0>,\n",
       " <database_declarative.Submission at 0x11dfc5cf8>,\n",
       " <database_declarative.Submission at 0x11dfc5cc0>,\n",
       " <database_declarative.Submission at 0x11dfc56a0>,\n",
       " <database_declarative.Submission at 0x11dfc5208>,\n",
       " <database_declarative.Submission at 0x11dfc50f0>,\n",
       " <database_declarative.Submission at 0x11dfc5b38>,\n",
       " <database_declarative.Submission at 0x11dfc5470>,\n",
       " <database_declarative.Submission at 0x11dfc5f98>,\n",
       " <database_declarative.Submission at 0x11dfc54e0>,\n",
       " <database_declarative.Submission at 0x11dfc5e80>,\n",
       " <database_declarative.Submission at 0x11dfc5b00>,\n",
       " <database_declarative.Submission at 0x11dfc52e8>,\n",
       " <database_declarative.Submission at 0x11dfc5e48>,\n",
       " <database_declarative.Submission at 0x11dfc5048>,\n",
       " <database_declarative.Submission at 0x11dfc5630>,\n",
       " <database_declarative.Submission at 0x11dfc5d30>,\n",
       " <database_declarative.Submission at 0x11dfc5940>,\n",
       " <database_declarative.Submission at 0x11dfc57f0>,\n",
       " <database_declarative.Submission at 0x11dfc5e10>,\n",
       " <database_declarative.Submission at 0x11dfc51d0>,\n",
       " <database_declarative.Submission at 0x11dfc5748>,\n",
       " <database_declarative.Submission at 0x11dfc5ba8>,\n",
       " <database_declarative.Submission at 0x11dfc5ef0>,\n",
       " <database_declarative.Submission at 0x11dfc5898>,\n",
       " <database_declarative.Submission at 0x11dfc55f8>,\n",
       " <database_declarative.Submission at 0x11dfc5080>,\n",
       " <database_declarative.Submission at 0x11dfc5f28>,\n",
       " <database_declarative.Submission at 0x11dfc5828>,\n",
       " <database_declarative.Submission at 0x11dfc5d68>,\n",
       " <database_declarative.Submission at 0x11dfc5eb8>,\n",
       " <database_declarative.Submission at 0x11dfc50b8>,\n",
       " <database_declarative.Submission at 0x11df27d30>,\n",
       " <database_declarative.Submission at 0x11df278d0>,\n",
       " <database_declarative.Submission at 0x11df27668>,\n",
       " <database_declarative.Submission at 0x11df27208>,\n",
       " <database_declarative.Submission at 0x11df277f0>,\n",
       " <database_declarative.Submission at 0x11df27400>,\n",
       " <database_declarative.Submission at 0x11df27860>,\n",
       " <database_declarative.Submission at 0x11df27c88>,\n",
       " <database_declarative.Submission at 0x11df274a8>,\n",
       " <database_declarative.Submission at 0x11df27b00>,\n",
       " <database_declarative.Submission at 0x11df27278>,\n",
       " <database_declarative.Submission at 0x11df279e8>,\n",
       " <database_declarative.Submission at 0x11df27940>,\n",
       " <database_declarative.Submission at 0x11df27160>,\n",
       " <database_declarative.Submission at 0x11df27438>,\n",
       " <database_declarative.Submission at 0x11df27588>,\n",
       " <database_declarative.Submission at 0x11df270b8>,\n",
       " <database_declarative.Submission at 0x11df27e10>,\n",
       " <database_declarative.Submission at 0x11df27048>,\n",
       " <database_declarative.Submission at 0x11df27b38>,\n",
       " <database_declarative.Submission at 0x11dfcfd68>,\n",
       " <database_declarative.Submission at 0x11e2106a0>]"
      ]
     },
     "execution_count": 27,
     "metadata": {},
     "output_type": "execute_result"
    }
   ],
   "source": [
    "session.query(Submission).all()"
   ]
  },
  {
   "cell_type": "code",
   "execution_count": 22,
   "metadata": {},
   "outputs": [],
   "source": [
    "#this needs to be fixed for AGITTOC\n",
    "student = 'yshi9'\n",
    "subs=session.query(Submission).filter(Submission.netid==student)"
   ]
  },
  {
   "cell_type": "code",
   "execution_count": 23,
   "metadata": {},
   "outputs": [],
   "source": [
    "fresh_subs=session.query(Submission).filter(and_(Submission.netid==student, Submission.new_submission==1) ).all()\n",
    "matched_subs=session.query(Submission).filter(and_(Submission.netid==student, Submission.submission_locked==1)).all()\n",
    "\n",
    "first_reviews = []\n",
    "for s in matched_subs:\n",
    "    if is_reviewed(s):\n",
    "        first_reviews.append(s)\n",
    "\n",
    "for c in first_reviews:\n",
    "    matched_subs.remove(c)        \n",
    "        \n",
    "completed =[]\n",
    "for s in first_reviews:\n",
    "    if is_complete(s):\n",
    "        completed.append(s)\n",
    "        \n",
    "for c in completed:\n",
    "    first_reviews.remove(c)\n",
    "\n",
    "fresh_subs=sorted(fresh_subs,key=lambda c: [c.assignment,c.problem])\n",
    "matched_subs=sorted(matched_subs,key=lambda c: [c.assignment,c.problem])\n",
    "first_reviews = sorted(first_reviews,key=lambda c: [c.assignment,c.problem])\n",
    "completed=sorted(completed,key=lambda c: [c.assignment,c.problem])\n"
   ]
  },
  {
   "cell_type": "code",
   "execution_count": 24,
   "metadata": {},
   "outputs": [],
   "source": [
    "for s in fresh_subs:\n",
    "    print(f\"{s.submission_number} (waiting): assignment {s.assignment}, problem {s.problem}\")\n",
    "    \n",
    "for s in matched_subs:\n",
    "    print(f\"{s.submission_number} (matched): assignment {s.assignment}, problem {s.problem}\")\n",
    "    \n",
    "for s in first_reviews:\n",
    "    print(f\"{s.submission_number} (first review done): assignment {s.assignment}, problem {s.problem}\")\n",
    "    \n",
    "for s in completed:\n",
    "    print(f\"{s.submission_number} (complete): assignment {s.assignment}, problem {s.problem}\")\n",
    "    "
   ]
  },
  {
   "cell_type": "code",
   "execution_count": 12,
   "metadata": {},
   "outputs": [
    {
     "data": {
      "text/plain": [
       "'\\ncompleted =[]\\nfor s in subs:\\n    if is_complete(s):\\n        completed.append(s)\\n\\nfresh_subs=sorted(fresh_subs,key=lambda c: [c.assignment,c.problem])\\nmatched_subs=sorted(matched_subs,key=lambda c: [c.assignment,c.problem])\\ncompleted=sorted(completed,key=lambda c: [c.assignment,c.problem])\\n'"
      ]
     },
     "execution_count": 12,
     "metadata": {},
     "output_type": "execute_result"
    }
   ],
   "source": [
    "\"\"\"\n",
    "completed =[]\n",
    "for s in subs:\n",
    "    if is_complete(s):\n",
    "        completed.append(s)\n",
    "\n",
    "fresh_subs=sorted(fresh_subs,key=lambda c: [c.assignment,c.problem])\n",
    "matched_subs=sorted(matched_subs,key=lambda c: [c.assignment,c.problem])\n",
    "completed=sorted(completed,key=lambda c: [c.assignment,c.problem])\n",
    "\"\"\""
   ]
  },
  {
   "cell_type": "code",
   "execution_count": 13,
   "metadata": {},
   "outputs": [],
   "source": [
    "for c in completed:\n",
    "    print(f\"{c.submission_number}: assignment {c.assignment}, problem {c.problem}, score {c.total_score2}\")"
   ]
  },
  {
   "cell_type": "code",
   "execution_count": 14,
   "metadata": {},
   "outputs": [],
   "source": [
    "closed_subs=[s.submission_number for s in subs.filter(Submission.closed==1)]"
   ]
  },
  {
   "cell_type": "markdown",
   "metadata": {},
   "source": [
    "completed"
   ]
  },
  {
   "cell_type": "code",
   "execution_count": 15,
   "metadata": {},
   "outputs": [
    {
     "ename": "IndexError",
     "evalue": "list index out of range",
     "output_type": "error",
     "traceback": [
      "\u001b[0;31m---------------------------------------------------------------------------\u001b[0m",
      "\u001b[0;31mIndexError\u001b[0m                                Traceback (most recent call last)",
      "\u001b[0;32m<ipython-input-15-4b9658d97637>\u001b[0m in \u001b[0;36m<module>\u001b[0;34m\u001b[0m\n\u001b[0;32m----> 1\u001b[0;31m \u001b[0ms\u001b[0m\u001b[0;34m=\u001b[0m\u001b[0msubs\u001b[0m\u001b[0;34m[\u001b[0m\u001b[0;36m0\u001b[0m\u001b[0;34m]\u001b[0m\u001b[0;34m\u001b[0m\u001b[0;34m\u001b[0m\u001b[0m\n\u001b[0m",
      "\u001b[0;32m~/Library/Python/3.7/lib/python/site-packages/sqlalchemy/orm/query.py\u001b[0m in \u001b[0;36m__getitem__\u001b[0;34m(self, item)\u001b[0m\n\u001b[1;32m   3179\u001b[0m                 \u001b[0;32mreturn\u001b[0m \u001b[0mlist\u001b[0m\u001b[0;34m(\u001b[0m\u001b[0mself\u001b[0m\u001b[0;34m)\u001b[0m\u001b[0;34m[\u001b[0m\u001b[0;34m-\u001b[0m\u001b[0;36m1\u001b[0m\u001b[0;34m]\u001b[0m\u001b[0;34m\u001b[0m\u001b[0;34m\u001b[0m\u001b[0m\n\u001b[1;32m   3180\u001b[0m             \u001b[0;32melse\u001b[0m\u001b[0;34m:\u001b[0m\u001b[0;34m\u001b[0m\u001b[0;34m\u001b[0m\u001b[0m\n\u001b[0;32m-> 3181\u001b[0;31m                 \u001b[0;32mreturn\u001b[0m \u001b[0mlist\u001b[0m\u001b[0;34m(\u001b[0m\u001b[0mself\u001b[0m\u001b[0;34m[\u001b[0m\u001b[0mitem\u001b[0m \u001b[0;34m:\u001b[0m \u001b[0mitem\u001b[0m \u001b[0;34m+\u001b[0m \u001b[0;36m1\u001b[0m\u001b[0;34m]\u001b[0m\u001b[0;34m)\u001b[0m\u001b[0;34m[\u001b[0m\u001b[0;36m0\u001b[0m\u001b[0;34m]\u001b[0m\u001b[0;34m\u001b[0m\u001b[0;34m\u001b[0m\u001b[0m\n\u001b[0m\u001b[1;32m   3182\u001b[0m \u001b[0;34m\u001b[0m\u001b[0m\n\u001b[1;32m   3183\u001b[0m     \u001b[0;34m@\u001b[0m\u001b[0m_generative\u001b[0m\u001b[0;34m(\u001b[0m\u001b[0m_no_statement_condition\u001b[0m\u001b[0;34m)\u001b[0m\u001b[0;34m\u001b[0m\u001b[0;34m\u001b[0m\u001b[0m\n",
      "\u001b[0;31mIndexError\u001b[0m: list index out of range"
     ]
    }
   ],
   "source": [
    "s=subs[0]"
   ]
  },
  {
   "cell_type": "code",
   "execution_count": 35,
   "metadata": {},
   "outputs": [
    {
     "data": {
      "text/plain": [
       "'cdecours'"
      ]
     },
     "execution_count": 35,
     "metadata": {},
     "output_type": "execute_result"
    }
   ],
   "source": [
    "s.reviewer1\n",
    "s.reviewer2"
   ]
  },
  {
   "cell_type": "code",
   "execution_count": 36,
   "metadata": {},
   "outputs": [
    {
     "name": "stdout",
     "output_type": "stream",
     "text": [
      "submission number: 92, author: yshi9, reviewer 1: ttamang, reviewer2: cdecours\n",
      " submission number: 70; assignment 1, problem 1, reviewer id cdecours\n",
      " submission number: 79; assignment 1, problem 1, reviewer id ttamang\n"
     ]
    }
   ],
   "source": [
    "is_reviewed(s)\n",
    "a=s.assignment\n",
    "p=s.problem\n",
    "r1 = s.reviewer1\n",
    "r2 = s.reviewer2\n",
    "print(f'submission number: {s.submission_number}, author: {s.netid}, reviewer 1: {r1}, reviewer2: {r2}') \n",
    "reviews = session.query(Submission).filter( and_(or_(Submission.netid==r1,Submission.netid==r2),Submission.assignment ==a,Submission.problem ==p))\n",
    "for rev in reviews:\n",
    "    print(f\" submission number: {rev.submission_number}; assignment {rev.assignment}, problem {rev.problem}, reviewer id {rev.netid}\")"
   ]
  },
  {
   "cell_type": "code",
   "execution_count": 45,
   "metadata": {},
   "outputs": [
    {
     "data": {
      "text/plain": [
       "False"
      ]
     },
     "execution_count": 45,
     "metadata": {},
     "output_type": "execute_result"
    }
   ],
   "source": [
    "is_complete(s)"
   ]
  },
  {
   "cell_type": "code",
   "execution_count": null,
   "metadata": {},
   "outputs": [],
   "source": [
    "s.review1_timestamp"
   ]
  },
  {
   "cell_type": "code",
   "execution_count": 37,
   "metadata": {},
   "outputs": [
    {
     "ename": "SyntaxError",
     "evalue": "invalid syntax (<ipython-input-37-db720c296e9f>, line 5)",
     "output_type": "error",
     "traceback": [
      "\u001b[0;36m  File \u001b[0;32m\"<ipython-input-37-db720c296e9f>\"\u001b[0;36m, line \u001b[0;32m5\u001b[0m\n\u001b[0;31m    myemail['sender'] ==\u001b[0m\n\u001b[0m                         ^\u001b[0m\n\u001b[0;31mSyntaxError\u001b[0m\u001b[0;31m:\u001b[0m invalid syntax\n"
     ]
    }
   ],
   "source": [
    "def poke_reviewers(sub_num):\n",
    "    subject = \"re\"\n",
    "    sub=session.query(Submission).filter(Submission.submission_number=sub_num)\n",
    "    if s.review1_timestamp==-1:\n",
    "        myemail['sender'] == \n",
    "        out_msg=send_email(myemail)\n",
    "    if s.review2_timestamp==-1:        "
   ]
  },
  {
   "cell_type": "code",
   "execution_count": null,
   "metadata": {},
   "outputs": [],
   "source": [
    "    emails[user]['subject'] = course_name + \" Database Updates \" + (\"%s\" % datetime.datetime.now())\n",
    "    #emails[user]['message_parts'] = {}\n",
    "    emails[user]['message'] =''\n",
    "    emails[user]['attachments'] = []\n",
    "    emails[user]['receiver'] = R.get({'netid':user})[0]['email']"
   ]
  },
  {
   "cell_type": "code",
   "execution_count": 17,
   "metadata": {},
   "outputs": [],
   "source": [
    "matched_subs = session.query(Submission).filter( or_(Submission.netid==student,Submission.netid==student)).all()"
   ]
  },
  {
   "cell_type": "code",
   "execution_count": 18,
   "metadata": {},
   "outputs": [],
   "source": [
    "first_reviews = []\n",
    "for s in matched_subs:\n",
    "    if is_reviewed(s):\n",
    "        first_reviews.append(s)\n",
    "\n",
    "for c in first_reviews:\n",
    "    matched_subs.remove(c)        \n",
    "        \n",
    "completed =[]\n",
    "for s in first_reviews:\n",
    "    if is_complete(s):\n",
    "        completed.append(s)\n",
    "        \n",
    "for c in completed:\n",
    "    first_reviews.remove(c)\n",
    "\n",
    "matched_subs=sorted(matched_subs,key=lambda c: [c.assignment,c.problem])\n",
    "first_reviews = sorted(first_reviews,key=lambda c: [c.assignment,c.problem])\n",
    "completed=sorted(completed,key=lambda c: [c.assignment,c.problem])"
   ]
  },
  {
   "cell_type": "code",
   "execution_count": 16,
   "metadata": {},
   "outputs": [
    {
     "data": {
      "text/plain": [
       "'algebra-one'"
      ]
     },
     "execution_count": 16,
     "metadata": {},
     "output_type": "execute_result"
    }
   ],
   "source": [
    "session.query(Course).all()[0].coursename"
   ]
  },
  {
   "cell_type": "code",
   "execution_count": null,
   "metadata": {},
   "outputs": [],
   "source": []
  }
 ],
 "metadata": {
  "kernelspec": {
   "display_name": "Python 3",
   "language": "python",
   "name": "python3"
  },
  "language_info": {
   "codemirror_mode": {
    "name": "ipython",
    "version": 3
   },
   "file_extension": ".py",
   "mimetype": "text/x-python",
   "name": "python",
   "nbconvert_exporter": "python",
   "pygments_lexer": "ipython3",
   "version": "3.7.3"
  }
 },
 "nbformat": 4,
 "nbformat_minor": 4
}
