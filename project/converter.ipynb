{
 "cells": [
  {
   "cell_type": "code",
   "execution_count": 1,
   "metadata": {},
   "outputs": [],
   "source": [
    "import sys, os\n",
    "sys.path.append('./..')\n",
    "sys.path.append([\"/Users/taylordupuy/Documents/web-development/dev/flaskpage\",\"/Users/taylordupuy/Documents/web-development/dev/flaskpage/project\"])"
   ]
  },
  {
   "cell_type": "code",
   "execution_count": 2,
   "metadata": {},
   "outputs": [],
   "source": [
    "#without adding data to the database queries will not work.\n",
    "os.remove('/Users/taylordupuy/Documents/web-development/dev/flaskpage/project/db.sqlite')"
   ]
  },
  {
   "cell_type": "code",
   "execution_count": 3,
   "metadata": {},
   "outputs": [
    {
     "data": {
      "text/plain": [
       "\"\\n#import models fails\\nfrom flask import Flask\\nfrom flask_sqlalchemy import SQLAlchemy\\nfrom models import User, Submission, Problem, Course\\n\\napp = Flask(__name__)\\napp.config['SQLALCHEMY_DATABASE_URI'] = 'sqlite:///db.sqlite'\\ndbb = SQLAlchemy(app)\\ndbb.init_app(app)\\n\""
      ]
     },
     "execution_count": 3,
     "metadata": {},
     "output_type": "execute_result"
    }
   ],
   "source": [
    "#This command needs to be run from the auth environment or it won't run.\n",
    "#from project import db, create_app\n",
    "#db.create_all(app=create_app())\n",
    "\n",
    "\"\"\" \n",
    "from project import db, create_app\n",
    "\n",
    "app=create_app()\n",
    "app.config['SQLALCHEMY_DATABASE_URI'] = 'sqlite:///db.sqlite'\n",
    "with app.app_context():\n",
    "    db.create_all()\n",
    "\"\"\"\n",
    "\n",
    "\"\"\"\n",
    "with app.app_context():\n",
    "    users=db.session.query(User).all()\n",
    "\"\"\"\n",
    "\n",
    "\"\"\"\n",
    "#import models fails\n",
    "from flask import Flask\n",
    "from flask_sqlalchemy import SQLAlchemy\n",
    "from models import User, Submission, Problem, Course\n",
    "\n",
    "app = Flask(__name__)\n",
    "app.config['SQLALCHEMY_DATABASE_URI'] = 'sqlite:///db.sqlite'\n",
    "dbb = SQLAlchemy(app)\n",
    "dbb.init_app(app)\n",
    "\"\"\""
   ]
  },
  {
   "cell_type": "code",
   "execution_count": 4,
   "metadata": {},
   "outputs": [],
   "source": [
    "############################\n",
    "from werkzeug.security import generate_password_hash, check_password_hash\n",
    "\n",
    "sys.path.append('/users/taylordupuy/Documents/web-development/dev/excel_tools')\n",
    "sys.path.append('/users/taylordupuy/Documents/web-development/dev/email_tools')\n",
    "\n",
    "from table_editor import SheetObject\n",
    "\n",
    "R=SheetObject('/users/taylordupuy/Documents/web-development/data/algebra-one/20/f/roster.xlsx','roster')\n",
    "S=SheetObject('/users/taylordupuy/Documents/web-development/data/algebra-one/20/f/roster.xlsx','submissions')\n",
    "A=SheetObject('/users/taylordupuy/Documents/web-development/data/algebra-one/20/f/roster.xlsx','assignments')\n",
    "P=SheetObject('/users/taylordupuy/Documents/web-development/data/algebra-one/20/f/roster-test.xlsx','assignments')\n",
    "\n",
    "from database_declarative import User, Submission, Problem, Course, Base\n",
    "#from models import db\n",
    "#from models import User, Submission, Problem, Course\n",
    "from sqlalchemy import create_engine\n",
    "import numpy as np\n",
    "from email_functions import *\n",
    "from sqlalchemy import or_, and_\n",
    "from sqlalchemy.orm import relationship\n",
    "\n",
    "engine = create_engine('sqlite:///db.sqlite')\n",
    "Base.metadata.bind = engine\n",
    "from sqlalchemy.orm import sessionmaker\n",
    "DBSession = sessionmaker()\n",
    "DBSession.bind = engine\n",
    "session = DBSession()\n",
    "\n",
    "def is_reviewed(s):\n",
    "    return s.review1_timestamp>-1 and s.review2_timestamp>-1\n",
    "\n",
    "def is_complete(s):\n",
    "    if is_reviewed(s):\n",
    "        a=s.assignment\n",
    "        p=s.problem\n",
    "        r1 = s.reviewer1\n",
    "        r2 = s.reviewer2\n",
    "        subs = session.query(Submission).filter( and_(or_(Submission.netid==r1,Submission.netid==r2),Submission.assignment ==a,Submission.problem ==p))\n",
    "        if is_reviewed(subs[0]) and is_reviewed(subs[1]):\n",
    "            return True\n",
    "        else: \n",
    "            return False\n",
    "    else:\n",
    "        return False\n",
    "    \n",
    "def is_matched(s):\n",
    "    if s.reviewer1_assignment_time>-1 and s.reviewer2_assignment_time>-1:\n",
    "        return True\n",
    "    else:\n",
    "        return False\n",
    "    \n",
    "def get_grade(user,ass):\n",
    "    \"\"\"\n",
    "    get_grade('yshi9',1)\n",
    "    7.875473484848484\n",
    "    \"\"\"\n",
    "    subs=session.query(Submission).filter( and_(Submission.netid==user, Submission.assignment==ass))\n",
    "    subs = sorted(subs, key=lambda s: s.total_score2)\n",
    "    return np.mean([s.total_score2 for s in subs[0:2]])\n",
    "\n",
    "def get_email(netid):\n",
    "    user=session.query(User).filter(User.netid==netid).first()\n",
    "    return user.email\n",
    "\n",
    "def strdate_to_int(s):\n",
    "    time.mktime(datetime.datetime.strptime(s, \"%m/%d/%Y\").timetuple())\n",
    "    \n",
    "Base.metadata.create_all(engine)"
   ]
  },
  {
   "cell_type": "code",
   "execution_count": 5,
   "metadata": {},
   "outputs": [],
   "source": [
    "# Insert an Address in the address table\n",
    "algebra = Course(\n",
    "    coursename = 'algebra-one',\n",
    "    year=20,\n",
    "    term = 'f', #F=Fall, S=Spring, U=Summer,\n",
    "    coursenumber = 'Math 251', #used to be class\n",
    "    uvm_course = 1,\n",
    "    zulipurl = 'https://uvm-mathematics.zulipchat.com',\n",
    "    zuliprc = '',\n",
    "    homepage = 'https://www.uvm.edu/~tdupuy/',\n",
    "    size = 36\n",
    ")\n",
    "session.add(algebra)\n",
    "session.commit()"
   ]
  },
  {
   "cell_type": "code",
   "execution_count": 6,
   "metadata": {},
   "outputs": [
    {
     "data": {
      "text/plain": [
       "\"\\nfrom sqlalchemy.ext.declarative import DeclarativeMeta\\n\\nclass AlchemyEncoder(json.JSONEncoder):\\n\\n    def default(self, obj):\\n        if isinstance(obj.__class__, DeclarativeMeta):\\n            # an SQLAlchemy class\\n            fields = {}\\n            for field in [x for x in dir(obj) if not x.startswith('_') and x != 'metadata']:\\n                data = obj.__getattribute__(field)\\n                try:\\n                    json.dumps(data) # this will fail on non-encodable values, like other classes\\n                    fields[field] = data\\n                except TypeError:\\n                    fields[field] = None\\n            # a json-encodable dict\\n            return fields\\n\\n        return json.JSONEncoder.default(self, obj)\\n    \""
      ]
     },
     "execution_count": 6,
     "metadata": {},
     "output_type": "execute_result"
    }
   ],
   "source": [
    "# Insert an Address in the address table\n",
    "algebraic_topology = Course(\n",
    "    coursename = 'algebraic-topology',\n",
    "    year=20,\n",
    "    term = 'f', #F=Fall, S=Spring, U=Summer,\n",
    "    coursenumber = 'Math 354', #used to be class\n",
    "    uvm_course = 1,\n",
    "    zulipurl = 'https://uvm-mathematics.zulipchat.com',\n",
    "    zuliprc = '',\n",
    "    homepage = 'https://www.uvm.edu/~tdupuy/',\n",
    "    size = 9\n",
    ")\n",
    "session.add(algebraic_topology)\n",
    "session.commit()\n",
    "\n",
    "\"\"\"\n",
    "from sqlalchemy.ext.declarative import DeclarativeMeta\n",
    "\n",
    "class AlchemyEncoder(json.JSONEncoder):\n",
    "\n",
    "    def default(self, obj):\n",
    "        if isinstance(obj.__class__, DeclarativeMeta):\n",
    "            # an SQLAlchemy class\n",
    "            fields = {}\n",
    "            for field in [x for x in dir(obj) if not x.startswith('_') and x != 'metadata']:\n",
    "                data = obj.__getattribute__(field)\n",
    "                try:\n",
    "                    json.dumps(data) # this will fail on non-encodable values, like other classes\n",
    "                    fields[field] = data\n",
    "                except TypeError:\n",
    "                    fields[field] = None\n",
    "            # a json-encodable dict\n",
    "            return fields\n",
    "\n",
    "        return json.JSONEncoder.default(self, obj)\n",
    "    \"\"\""
   ]
  },
  {
   "cell_type": "code",
   "execution_count": 7,
   "metadata": {},
   "outputs": [],
   "source": [
    "algebra=session.query(Course).filter(and_(\n",
    "    Course.coursename == 'algebra-one',\n",
    "    Course.year==2020,\n",
    "    Course.term == 'f')\n",
    ").first()\n",
    "\n",
    "topology=session.query(Course).filter(and_(\n",
    "    Course.coursename == 'algebraic-topology',\n",
    "    Course.year==20,\n",
    "    Course.term == 'f')\n",
    ").first()"
   ]
  },
  {
   "cell_type": "code",
   "execution_count": 8,
   "metadata": {},
   "outputs": [
    {
     "name": "stdout",
     "output_type": "stream",
     "text": [
      "<database_declarative.Course object at 0x1267cf8d0>\n"
     ]
    }
   ],
   "source": [
    "algebra=session.query(Course).all()[0]\n",
    "print(algebra)"
   ]
  },
  {
   "cell_type": "code",
   "execution_count": 9,
   "metadata": {},
   "outputs": [],
   "source": [
    "myproblems = A.get({})\n",
    "\n",
    "for x in myproblems:\n",
    "    new_problem = Problem(\n",
    "    coursename = 'algebra-one', #algebra-one, algebraic-topology, agittoc1, agittoc2, agittoc3\n",
    "    year = 2020,\n",
    "    term = 'f', #f=Fall, s=Spring, u=Summer\n",
    "    assignment = x['assignment'],\n",
    "    problem = x['problem'],\n",
    "    #references = x['']\n",
    "    datasets={'subs':[],\n",
    "                  'waiting':[],\n",
    "                  'matched':[],\n",
    "                  'reviewed':[],\n",
    "                  'completed':[],\n",
    "                  'scores':[],\n",
    "                  'rt':[],\n",
    "                  'mt':[]}\n",
    "    )\n",
    "    session.add(new_problem)\n",
    "\n",
    "session.commit()"
   ]
  },
  {
   "cell_type": "code",
   "execution_count": 10,
   "metadata": {},
   "outputs": [
    {
     "name": "stdout",
     "output_type": "stream",
     "text": [
      "<database_declarative.Course object at 0x1267cf8d0>\n"
     ]
    }
   ],
   "source": [
    "print(algebra)"
   ]
  },
  {
   "cell_type": "code",
   "execution_count": 11,
   "metadata": {},
   "outputs": [
    {
     "data": {
      "text/plain": [
       "1514523600.0"
      ]
     },
     "execution_count": 11,
     "metadata": {},
     "output_type": "execute_result"
    }
   ],
   "source": [
    "date_str = '12/29/2017' # The date - 29 Dec 2017\n",
    "format_str = '%m/%d/%Y' # The format\n",
    "datetime_obj = datetime.datetime.strptime(date_str, format_str)\n",
    "datetime_obj.timestamp()"
   ]
  },
  {
   "cell_type": "code",
   "execution_count": 12,
   "metadata": {},
   "outputs": [],
   "source": [
    "def string_to_timestamp(date_str, format_str='%m/%d/%Y'):\n",
    "    datetime_obj = datetime.datetime.strptime(date_str, format_str)\n",
    "    return datetime_obj.timestamp()"
   ]
  },
  {
   "cell_type": "code",
   "execution_count": 13,
   "metadata": {},
   "outputs": [],
   "source": [
    "for p in session.query(Problem).all():\n",
    "    #print(p)\n",
    "    results=P.get({\"assignment\":int(p.assignment),\"problem\":int(p.problem)})\n",
    "    #print(results)\n",
    "    if len(results)==1:\n",
    "        #print(results[0])\n",
    "        result = results[0]\n",
    "        p.description=result['problem_details']\n",
    "        p.hints=result['hints']\n",
    "        p.due_date=result['due_date'].timestamp()\n",
    "        #print(p.due_date)\n",
    "        p.course=algebra\n",
    "        #print(p.course) this seems to be storing things properly\n",
    "session.commit()"
   ]
  },
  {
   "cell_type": "code",
   "execution_count": 14,
   "metadata": {},
   "outputs": [
    {
     "name": "stdout",
     "output_type": "stream",
     "text": [
      "<database_declarative.Problem object at 0x1266da438>\n",
      "None\n",
      "1599796800\n",
      "<database_declarative.Course object at 0x1267cf8d0>\n"
     ]
    }
   ],
   "source": [
    "algebra2=session.query(Course).all()[0] #this returned something nontrivial\n",
    "#print(algebra2.problems)\n",
    "myproblem = session.query(Problem).all()[3]\n",
    "print(myproblem)\n",
    "print(myproblem.hints) #this should be None most of the time\n",
    "print(myproblem.due_date) #this is working now, the zeroeth problem doesn't work\n",
    "print(myproblem.course)"
   ]
  },
  {
   "cell_type": "code",
   "execution_count": 15,
   "metadata": {},
   "outputs": [
    {
     "name": "stdout",
     "output_type": "stream",
     "text": [
      "<database_declarative.Problem object at 0x1266da438>\n",
      "<database_declarative.Course object at 0x1267cf8d0>\n",
      "[<database_declarative.Problem object at 0x1264b1710>, <database_declarative.Problem object at 0x1264b1780>, <database_declarative.Problem object at 0x1266da438>, <database_declarative.Problem object at 0x1264b1f28>, <database_declarative.Problem object at 0x1264b1128>, <database_declarative.Problem object at 0x1264b14a8>, <database_declarative.Problem object at 0x1264b1048>, <database_declarative.Problem object at 0x1264b18d0>, <database_declarative.Problem object at 0x1264ba048>, <database_declarative.Problem object at 0x1264baf98>, <database_declarative.Problem object at 0x1264ba978>, <database_declarative.Problem object at 0x1264ba588>, <database_declarative.Problem object at 0x1264bad30>, <database_declarative.Problem object at 0x1264ba320>, <database_declarative.Problem object at 0x1264baac8>, <database_declarative.Problem object at 0x1264ba128>, <database_declarative.Problem object at 0x1263fbf28>, <database_declarative.Problem object at 0x1263fbd30>, <database_declarative.Problem object at 0x1263fb668>, <database_declarative.Problem object at 0x1264a55f8>, <database_declarative.Problem object at 0x1264a5400>, <database_declarative.Problem object at 0x1264a5978>, <database_declarative.Problem object at 0x1264a5748>, <database_declarative.Problem object at 0x1264a5518>, <database_declarative.Problem object at 0x1264a5cc0>, <database_declarative.Problem object at 0x1264a52e8>, <database_declarative.Problem object at 0x1264a5a90>, <database_declarative.Problem object at 0x1266d19e8>, <database_declarative.Problem object at 0x1266d1fd0>, <database_declarative.Problem object at 0x1266d1e80>, <database_declarative.Problem object at 0x1264b9f60>, <database_declarative.Problem object at 0x1264b93c8>, <database_declarative.Problem object at 0x1266ddc88>, <database_declarative.Problem object at 0x12636b780>, <database_declarative.Problem object at 0x10d8e6240>, <database_declarative.Problem object at 0x1266dd8d0>, <database_declarative.Problem object at 0x1266dd6a0>, <database_declarative.Problem object at 0x1266dd5c0>, <database_declarative.Problem object at 0x1266dd390>, <database_declarative.Problem object at 0x1266ddb38>, <database_declarative.Problem object at 0x1264c8518>, <database_declarative.Problem object at 0x1267cf860>, <database_declarative.Problem object at 0x1267cfb38>, <database_declarative.Problem object at 0x1267cfa20>, <database_declarative.Problem object at 0x10d9d3828>, <database_declarative.Problem object at 0x10d9d3898>, <database_declarative.Problem object at 0x10d9d3128>, <database_declarative.Problem object at 0x1266da400>, <database_declarative.Problem object at 0x1266da828>, <database_declarative.Problem object at 0x1266daf98>, <database_declarative.Problem object at 0x1266dad68>, <database_declarative.Problem object at 0x1266da550>, <database_declarative.Problem object at 0x1266da128>, <database_declarative.Problem object at 0x1266dadd8>, <database_declarative.Problem object at 0x1266de198>, <database_declarative.Problem object at 0x1264b95c0>]\n"
     ]
    }
   ],
   "source": [
    "print(myproblem)\n",
    "myproblem.course=algebra\n",
    "print(myproblem.course)\n",
    "print(algebra.problems) #this is outputting stuff now. Before it seems we were not recording the problems correctly."
   ]
  },
  {
   "cell_type": "code",
   "execution_count": 16,
   "metadata": {},
   "outputs": [],
   "source": [
    "#session.rollback()\n",
    "myusers = R.get({})\n",
    "\n",
    "# Insert a Person in the person table\n",
    "for x in myusers:\n",
    "    new_person = User(\n",
    "        name = x['name'],\n",
    "        pronoun=x['pronoun'],\n",
    "        uvm_student=1,\n",
    "        student_id = x['student_id'],\n",
    "        courses = 'algebra-one/f/20',\n",
    "        major = x['major'],\n",
    "        degree = x['degree'],\n",
    "        credits = x['credits'],\n",
    "        reg_status = x['reg_status'],\n",
    "        reg_data = x['reg_data'],\n",
    "        email = x['email'].lower(),\n",
    "        netid = x['netid'],\n",
    "        password = generate_password_hash(x['password'],method='sha256'),\n",
    "        config={'courses':[{'id':algebra.id,'group':'user'}],'emails':[],'super_user':0})\n",
    "    session.add(new_person)\n",
    "\n",
    "session.commit()"
   ]
  },
  {
   "cell_type": "code",
   "execution_count": 17,
   "metadata": {},
   "outputs": [],
   "source": [
    "mysubs = S.get({})\n",
    "for x in mysubs:\n",
    "    new_sub = Submission(\n",
    "        coursename = 'algebra-one',\n",
    "        year = '2020',\n",
    "        term = 'f',\n",
    "        submission_number = x['submission_number'],\n",
    "        submission_locked = x['submission_locked'],\n",
    "        netid = x['netid'],\n",
    "        email = get_email(x['netid']),\n",
    "        assignment = x['assignment'],\n",
    "        problem = x['problem'],\n",
    "        closed = x['closed'],\n",
    "        submission_time = x['submission_time'],\n",
    "        total_score1 = x['total_score1'],\n",
    "        total_score2 = x['total_score2'],\n",
    "        reviewer1_assignment_time =x['reviewer1_assignment_time'],\n",
    "        reviewer1 = x['reviewer1'],\n",
    "        reviewer1_email = '',\n",
    "        reviewer1_score = x['reviewer1_score'],\n",
    "        review1 = x['review1'],\n",
    "        review1_timestamp = x['review1_timestamp'],\n",
    "        review1_locked = x['review1_locked'],\n",
    "        #bad1, bad2\n",
    "        reviewer2_assignment_time =x['reviewer2_assignment_time'],\n",
    "        reviewer2 = x['reviewer2'],\n",
    "        reviewer2_email = '',\n",
    "        reviewer2_score = x['reviewer2_score'],\n",
    "        review2 = x['review2'],\n",
    "        review2_timestamp = x['review2_timestamp'],\n",
    "        review2_locked = x['review2_locked'],\n",
    "        new_submission = x['new_submission'],\n",
    "        new_match = x['new_match'],\n",
    "        new_review1 = x['new_review1'],\n",
    "        new_review2 = x['new_review2'],\n",
    "        new_completion = x['new_completion'])\n",
    "    session.add(new_sub)\n",
    "\n",
    "session.commit()"
   ]
  },
  {
   "cell_type": "code",
   "execution_count": 18,
   "metadata": {},
   "outputs": [],
   "source": [
    "#need to correct the submissions\n",
    "for s in session.query(Submission).all():\n",
    "    prob=session.query(Problem).filter(and_(\n",
    "        Problem.coursename==s.coursename,\n",
    "        Problem.problem==s.problem,\n",
    "        Problem.assignment==s.assignment)).first()\n",
    "    course=session.query(Course).filter(\n",
    "        Course.coursename==s.coursename).first()\n",
    "    user=session.query(User).filter(User.netid==s.netid).first()\n",
    "    s.prob=prob\n",
    "    s.course=course\n",
    "    s.user=user\n",
    "session.commit()"
   ]
  },
  {
   "cell_type": "code",
   "execution_count": 19,
   "metadata": {},
   "outputs": [
    {
     "data": {
      "text/plain": [
       "'tyler.bloom@uvm.edu'"
      ]
     },
     "execution_count": 19,
     "metadata": {},
     "output_type": "execute_result"
    }
   ],
   "source": [
    "#this needs to be fixed for AGITTOC\n",
    "student = 'tfbloom'\n",
    "myuser = session.query(User).filter(User.netid==student).first()\n",
    "email=myuser.email\n",
    "subs=session.query(Submission).filter(Submission.email==email)\n",
    "email"
   ]
  },
  {
   "cell_type": "code",
   "execution_count": 79,
   "metadata": {},
   "outputs": [
    {
     "name": "stdout",
     "output_type": "stream",
     "text": [
      "0\n",
      "[<database_declarative.Submission object at 0x11fe6e278>, <database_declarative.Submission object at 0x11fe6e390>, <database_declarative.Submission object at 0x11fe6e668>, <database_declarative.Submission object at 0x11fe6eac8>, <database_declarative.Submission object at 0x11fe6ecc0>, <database_declarative.Submission object at 0x11fe6edd8>, <database_declarative.Submission object at 0x11fe6ebe0>, <database_declarative.Submission object at 0x11fe6eba8>, <database_declarative.Submission object at 0x11fe6e400>, <database_declarative.Submission object at 0x11fe6eb70>, <database_declarative.Submission object at 0x11fe6ecf8>, <database_declarative.Submission object at 0x11fe6e9e8>]\n"
     ]
    },
    {
     "data": {
      "text/plain": [
       "[<database_declarative.Submission at 0x11fe63358>,\n",
       " <database_declarative.Submission at 0x11fe63d30>,\n",
       " <database_declarative.Submission at 0x11fe63128>,\n",
       " <database_declarative.Submission at 0x11fe636a0>,\n",
       " <database_declarative.Submission at 0x11fe63588>,\n",
       " <database_declarative.Submission at 0x11fe6eba8>,\n",
       " <database_declarative.Submission at 0x11fe63198>,\n",
       " <database_declarative.Submission at 0x11fe63cc0>,\n",
       " <database_declarative.Submission at 0x11fe63e80>,\n",
       " <database_declarative.Submission at 0x11fe63f98>,\n",
       " <database_declarative.Submission at 0x11fe630f0>,\n",
       " <database_declarative.Submission at 0x11fe63a20>]"
      ]
     },
     "execution_count": 79,
     "metadata": {},
     "output_type": "execute_result"
    }
   ],
   "source": [
    "print(myuser.config['super_user'])\n",
    "print(myuser.submissions) #\n",
    "print(myproblem.submissions) #"
   ]
  },
  {
   "cell_type": "code",
   "execution_count": 9,
   "metadata": {},
   "outputs": [
    {
     "data": {
      "text/plain": [
       "[<database_declarative.Submission at 0x120ff8ba8>,\n",
       " <database_declarative.Submission at 0x120ff8c50>,\n",
       " <database_declarative.Submission at 0x120ff8cf8>,\n",
       " <database_declarative.Submission at 0x120ff8da0>,\n",
       " <database_declarative.Submission at 0x120ff8e48>,\n",
       " <database_declarative.Submission at 0x120ff8ef0>,\n",
       " <database_declarative.Submission at 0x120ff8f98>,\n",
       " <database_declarative.Submission at 0x120ffc080>,\n",
       " <database_declarative.Submission at 0x120ffc128>,\n",
       " <database_declarative.Submission at 0x120ffc1d0>,\n",
       " <database_declarative.Submission at 0x120ffc278>,\n",
       " <database_declarative.Submission at 0x120ffc320>,\n",
       " <database_declarative.Submission at 0x120ffc3c8>,\n",
       " <database_declarative.Submission at 0x120ffc470>,\n",
       " <database_declarative.Submission at 0x120ffc518>,\n",
       " <database_declarative.Submission at 0x120ffc5c0>,\n",
       " <database_declarative.Submission at 0x120ffc668>,\n",
       " <database_declarative.Submission at 0x120ffc710>,\n",
       " <database_declarative.Submission at 0x120ffc7b8>,\n",
       " <database_declarative.Submission at 0x120ffc860>,\n",
       " <database_declarative.Submission at 0x120ffc908>,\n",
       " <database_declarative.Submission at 0x120ffc9b0>,\n",
       " <database_declarative.Submission at 0x120ffca58>,\n",
       " <database_declarative.Submission at 0x120ffcb00>]"
      ]
     },
     "execution_count": 9,
     "metadata": {},
     "output_type": "execute_result"
    }
   ],
   "source": [
    "reviewsubs = session.query(Submission).filter( or_(Submission.reviewer1_email==email,Submission.reviewer2_email==email)).all()\n",
    "reviewsubs"
   ]
  },
  {
   "cell_type": "code",
   "execution_count": 25,
   "metadata": {},
   "outputs": [],
   "source": [
    "fresh_subs=session.query(Submission).filter(and_(Submission.netid==student, Submission.new_submission==1) ).all()\n",
    "matched_subs=session.query(Submission).filter(and_(Submission.netid==student, Submission.submission_locked==1)).all()\n",
    "\n",
    "first_reviews = []\n",
    "for s in matched_subs:\n",
    "    if is_reviewed(s):\n",
    "        first_reviews.append(s)\n",
    "\n",
    "for c in first_reviews:\n",
    "    matched_subs.remove(c)        \n",
    "        \n",
    "completed =[]\n",
    "for s in first_reviews:\n",
    "    if is_complete(s):\n",
    "        completed.append(s)\n",
    "        \n",
    "for c in completed:\n",
    "    first_reviews.remove(c)\n",
    "\n",
    "fresh_subs=sorted(fresh_subs,key=lambda c: [c.assignment,c.problem])\n",
    "matched_subs=sorted(matched_subs,key=lambda c: [c.assignment,c.problem])\n",
    "first_reviews = sorted(first_reviews,key=lambda c: [c.assignment,c.problem])\n",
    "completed=sorted(completed,key=lambda c: [c.assignment,c.problem])"
   ]
  },
  {
   "cell_type": "code",
   "execution_count": 19,
   "metadata": {},
   "outputs": [
    {
     "ename": "NameError",
     "evalue": "name 'fresh_subs' is not defined",
     "output_type": "error",
     "traceback": [
      "\u001b[0;31m---------------------------------------------------------------------------\u001b[0m",
      "\u001b[0;31mNameError\u001b[0m                                 Traceback (most recent call last)",
      "\u001b[0;32m<ipython-input-19-d122d5368da7>\u001b[0m in \u001b[0;36m<module>\u001b[0;34m\u001b[0m\n\u001b[0;32m----> 1\u001b[0;31m \u001b[0;32mfor\u001b[0m \u001b[0ms\u001b[0m \u001b[0;32min\u001b[0m \u001b[0mfresh_subs\u001b[0m\u001b[0;34m:\u001b[0m\u001b[0;34m\u001b[0m\u001b[0;34m\u001b[0m\u001b[0m\n\u001b[0m\u001b[1;32m      2\u001b[0m     \u001b[0mprint\u001b[0m\u001b[0;34m(\u001b[0m\u001b[0;34mf\"{s.submission_number} (waiting): assignment {s.assignment}, problem {s.problem}\"\u001b[0m\u001b[0;34m)\u001b[0m\u001b[0;34m\u001b[0m\u001b[0;34m\u001b[0m\u001b[0m\n\u001b[1;32m      3\u001b[0m \u001b[0;34m\u001b[0m\u001b[0m\n\u001b[1;32m      4\u001b[0m \u001b[0;32mfor\u001b[0m \u001b[0ms\u001b[0m \u001b[0;32min\u001b[0m \u001b[0mmatched_subs\u001b[0m\u001b[0;34m:\u001b[0m\u001b[0;34m\u001b[0m\u001b[0;34m\u001b[0m\u001b[0m\n\u001b[1;32m      5\u001b[0m     \u001b[0mprint\u001b[0m\u001b[0;34m(\u001b[0m\u001b[0;34mf\"{s.submission_number} (matched): assignment {s.assignment}, problem {s.problem}\"\u001b[0m\u001b[0;34m)\u001b[0m\u001b[0;34m\u001b[0m\u001b[0;34m\u001b[0m\u001b[0m\n",
      "\u001b[0;31mNameError\u001b[0m: name 'fresh_subs' is not defined"
     ]
    }
   ],
   "source": [
    "for s in fresh_subs:\n",
    "    print(f\"{s.submission_number} (waiting): assignment {s.assignment}, problem {s.problem}\")\n",
    "    \n",
    "for s in matched_subs:\n",
    "    print(f\"{s.submission_number} (matched): assignment {s.assignment}, problem {s.problem}\")\n",
    "    \n",
    "for s in first_reviews:\n",
    "    print(f\"{s.submission_number} (first review done): assignment {s.assignment}, problem {s.problem}\")\n",
    "    \n",
    "for s in completed:\n",
    "    print(f\"{s.submission_number} (complete): assignment {s.assignment}, problem {s.problem}\")\n",
    "    "
   ]
  },
  {
   "cell_type": "code",
   "execution_count": 12,
   "metadata": {},
   "outputs": [
    {
     "data": {
      "text/plain": [
       "'\\ncompleted =[]\\nfor s in subs:\\n    if is_complete(s):\\n        completed.append(s)\\n\\nfresh_subs=sorted(fresh_subs,key=lambda c: [c.assignment,c.problem])\\nmatched_subs=sorted(matched_subs,key=lambda c: [c.assignment,c.problem])\\ncompleted=sorted(completed,key=lambda c: [c.assignment,c.problem])\\n'"
      ]
     },
     "execution_count": 12,
     "metadata": {},
     "output_type": "execute_result"
    }
   ],
   "source": [
    "\"\"\"\n",
    "completed =[]\n",
    "for s in subs:\n",
    "    if is_complete(s):\n",
    "        completed.append(s)\n",
    "\n",
    "fresh_subs=sorted(fresh_subs,key=lambda c: [c.assignment,c.problem])\n",
    "matched_subs=sorted(matched_subs,key=lambda c: [c.assignment,c.problem])\n",
    "completed=sorted(completed,key=lambda c: [c.assignment,c.problem])\n",
    "\"\"\""
   ]
  },
  {
   "cell_type": "code",
   "execution_count": 13,
   "metadata": {},
   "outputs": [],
   "source": [
    "for c in completed:\n",
    "    print(f\"{c.submission_number}: assignment {c.assignment}, problem {c.problem}, score {c.total_score2}\")"
   ]
  },
  {
   "cell_type": "code",
   "execution_count": 14,
   "metadata": {},
   "outputs": [],
   "source": [
    "closed_subs=[s.submission_number for s in subs.filter(Submission.closed==1)]"
   ]
  },
  {
   "cell_type": "markdown",
   "metadata": {},
   "source": [
    "completed"
   ]
  },
  {
   "cell_type": "code",
   "execution_count": 15,
   "metadata": {},
   "outputs": [
    {
     "ename": "IndexError",
     "evalue": "list index out of range",
     "output_type": "error",
     "traceback": [
      "\u001b[0;31m---------------------------------------------------------------------------\u001b[0m",
      "\u001b[0;31mIndexError\u001b[0m                                Traceback (most recent call last)",
      "\u001b[0;32m<ipython-input-15-4b9658d97637>\u001b[0m in \u001b[0;36m<module>\u001b[0;34m\u001b[0m\n\u001b[0;32m----> 1\u001b[0;31m \u001b[0ms\u001b[0m\u001b[0;34m=\u001b[0m\u001b[0msubs\u001b[0m\u001b[0;34m[\u001b[0m\u001b[0;36m0\u001b[0m\u001b[0;34m]\u001b[0m\u001b[0;34m\u001b[0m\u001b[0;34m\u001b[0m\u001b[0m\n\u001b[0m",
      "\u001b[0;32m~/Library/Python/3.7/lib/python/site-packages/sqlalchemy/orm/query.py\u001b[0m in \u001b[0;36m__getitem__\u001b[0;34m(self, item)\u001b[0m\n\u001b[1;32m   3179\u001b[0m                 \u001b[0;32mreturn\u001b[0m \u001b[0mlist\u001b[0m\u001b[0;34m(\u001b[0m\u001b[0mself\u001b[0m\u001b[0;34m)\u001b[0m\u001b[0;34m[\u001b[0m\u001b[0;34m-\u001b[0m\u001b[0;36m1\u001b[0m\u001b[0;34m]\u001b[0m\u001b[0;34m\u001b[0m\u001b[0;34m\u001b[0m\u001b[0m\n\u001b[1;32m   3180\u001b[0m             \u001b[0;32melse\u001b[0m\u001b[0;34m:\u001b[0m\u001b[0;34m\u001b[0m\u001b[0;34m\u001b[0m\u001b[0m\n\u001b[0;32m-> 3181\u001b[0;31m                 \u001b[0;32mreturn\u001b[0m \u001b[0mlist\u001b[0m\u001b[0;34m(\u001b[0m\u001b[0mself\u001b[0m\u001b[0;34m[\u001b[0m\u001b[0mitem\u001b[0m \u001b[0;34m:\u001b[0m \u001b[0mitem\u001b[0m \u001b[0;34m+\u001b[0m \u001b[0;36m1\u001b[0m\u001b[0;34m]\u001b[0m\u001b[0;34m)\u001b[0m\u001b[0;34m[\u001b[0m\u001b[0;36m0\u001b[0m\u001b[0;34m]\u001b[0m\u001b[0;34m\u001b[0m\u001b[0;34m\u001b[0m\u001b[0m\n\u001b[0m\u001b[1;32m   3182\u001b[0m \u001b[0;34m\u001b[0m\u001b[0m\n\u001b[1;32m   3183\u001b[0m     \u001b[0;34m@\u001b[0m\u001b[0m_generative\u001b[0m\u001b[0;34m(\u001b[0m\u001b[0m_no_statement_condition\u001b[0m\u001b[0;34m)\u001b[0m\u001b[0;34m\u001b[0m\u001b[0;34m\u001b[0m\u001b[0m\n",
      "\u001b[0;31mIndexError\u001b[0m: list index out of range"
     ]
    }
   ],
   "source": [
    "s=subs[0]"
   ]
  },
  {
   "cell_type": "code",
   "execution_count": 35,
   "metadata": {},
   "outputs": [
    {
     "data": {
      "text/plain": [
       "'cdecours'"
      ]
     },
     "execution_count": 35,
     "metadata": {},
     "output_type": "execute_result"
    }
   ],
   "source": [
    "s.reviewer1\n",
    "s.reviewer2"
   ]
  },
  {
   "cell_type": "code",
   "execution_count": 36,
   "metadata": {},
   "outputs": [
    {
     "name": "stdout",
     "output_type": "stream",
     "text": [
      "submission number: 92, author: yshi9, reviewer 1: ttamang, reviewer2: cdecours\n",
      " submission number: 70; assignment 1, problem 1, reviewer id cdecours\n",
      " submission number: 79; assignment 1, problem 1, reviewer id ttamang\n"
     ]
    }
   ],
   "source": [
    "is_reviewed(s)\n",
    "a=s.assignment\n",
    "p=s.problem\n",
    "r1 = s.reviewer1\n",
    "r2 = s.reviewer2\n",
    "print(f'submission number: {s.submission_number}, author: {s.netid}, reviewer 1: {r1}, reviewer2: {r2}') \n",
    "reviews = session.query(Submission).filter( and_(or_(Submission.netid==r1,Submission.netid==r2),Submission.assignment ==a,Submission.problem ==p))\n",
    "for rev in reviews:\n",
    "    print(f\" submission number: {rev.submission_number}; assignment {rev.assignment}, problem {rev.problem}, reviewer id {rev.netid}\")"
   ]
  },
  {
   "cell_type": "code",
   "execution_count": 45,
   "metadata": {},
   "outputs": [
    {
     "data": {
      "text/plain": [
       "False"
      ]
     },
     "execution_count": 45,
     "metadata": {},
     "output_type": "execute_result"
    }
   ],
   "source": [
    "is_complete(s)"
   ]
  },
  {
   "cell_type": "code",
   "execution_count": null,
   "metadata": {},
   "outputs": [],
   "source": [
    "s.review1_timestamp"
   ]
  },
  {
   "cell_type": "code",
   "execution_count": 37,
   "metadata": {},
   "outputs": [
    {
     "ename": "SyntaxError",
     "evalue": "invalid syntax (<ipython-input-37-db720c296e9f>, line 5)",
     "output_type": "error",
     "traceback": [
      "\u001b[0;36m  File \u001b[0;32m\"<ipython-input-37-db720c296e9f>\"\u001b[0;36m, line \u001b[0;32m5\u001b[0m\n\u001b[0;31m    myemail['sender'] ==\u001b[0m\n\u001b[0m                         ^\u001b[0m\n\u001b[0;31mSyntaxError\u001b[0m\u001b[0;31m:\u001b[0m invalid syntax\n"
     ]
    }
   ],
   "source": [
    "def poke_reviewers(sub_num):\n",
    "    subject = \"re\"\n",
    "    sub=session.query(Submission).filter(Submission.submission_number=sub_num)\n",
    "    if s.review1_timestamp==-1:\n",
    "        myemail['sender'] == \n",
    "        out_msg=send_email(myemail)\n",
    "    if s.review2_timestamp==-1:        "
   ]
  },
  {
   "cell_type": "code",
   "execution_count": null,
   "metadata": {},
   "outputs": [],
   "source": [
    "    emails[user]['subject'] = course_name + \" Database Updates \" + (\"%s\" % datetime.datetime.now())\n",
    "    #emails[user]['message_parts'] = {}\n",
    "    emails[user]['message'] =''\n",
    "    emails[user]['attachments'] = []\n",
    "    emails[user]['receiver'] = R.get({'netid':user})[0]['email']"
   ]
  },
  {
   "cell_type": "code",
   "execution_count": 17,
   "metadata": {},
   "outputs": [],
   "source": [
    "matched_subs = session.query(Submission).filter( or_(Submission.netid==student,Submission.netid==student)).all()"
   ]
  },
  {
   "cell_type": "code",
   "execution_count": 18,
   "metadata": {},
   "outputs": [],
   "source": [
    "first_reviews = []\n",
    "for s in matched_subs:\n",
    "    if is_reviewed(s):\n",
    "        first_reviews.append(s)\n",
    "\n",
    "for c in first_reviews:\n",
    "    matched_subs.remove(c)        \n",
    "        \n",
    "completed =[]\n",
    "for s in first_reviews:\n",
    "    if is_complete(s):\n",
    "        completed.append(s)\n",
    "        \n",
    "for c in completed:\n",
    "    first_reviews.remove(c)\n",
    "\n",
    "matched_subs=sorted(matched_subs,key=lambda c: [c.assignment,c.problem])\n",
    "first_reviews = sorted(first_reviews,key=lambda c: [c.assignment,c.problem])\n",
    "completed=sorted(completed,key=lambda c: [c.assignment,c.problem])"
   ]
  },
  {
   "cell_type": "code",
   "execution_count": 16,
   "metadata": {},
   "outputs": [
    {
     "data": {
      "text/plain": [
       "'algebra-one'"
      ]
     },
     "execution_count": 16,
     "metadata": {},
     "output_type": "execute_result"
    }
   ],
   "source": [
    "session.query(Course).all()[0].coursename"
   ]
  },
  {
   "cell_type": "code",
   "execution_count": 16,
   "metadata": {},
   "outputs": [
    {
     "data": {
      "text/plain": [
       "['a', 'b', 'c']"
      ]
     },
     "execution_count": 16,
     "metadata": {},
     "output_type": "execute_result"
    }
   ],
   "source": [
    "mydict={\"a\":1,\"b\":2,\"c\":3}\n",
    "list(mydict.keys())"
   ]
  },
  {
   "cell_type": "code",
   "execution_count": 11,
   "metadata": {},
   "outputs": [],
   "source": [
    "x=None"
   ]
  },
  {
   "cell_type": "code",
   "execution_count": 12,
   "metadata": {},
   "outputs": [
    {
     "data": {
      "text/plain": [
       "True"
      ]
     },
     "execution_count": 12,
     "metadata": {},
     "output_type": "execute_result"
    }
   ],
   "source": [
    "x==None"
   ]
  },
  {
   "cell_type": "code",
   "execution_count": 13,
   "metadata": {},
   "outputs": [
    {
     "data": {
      "text/plain": [
       "False"
      ]
     },
     "execution_count": 13,
     "metadata": {},
     "output_type": "execute_result"
    }
   ],
   "source": [
    "y=1\n",
    "y==None"
   ]
  }
 ],
 "metadata": {
  "kernelspec": {
   "display_name": "Python 3",
   "language": "python",
   "name": "python3"
  },
  "language_info": {
   "codemirror_mode": {
    "name": "ipython",
    "version": 3
   },
   "file_extension": ".py",
   "mimetype": "text/x-python",
   "name": "python",
   "nbconvert_exporter": "python",
   "pygments_lexer": "ipython3",
   "version": "3.7.3"
  }
 },
 "nbformat": 4,
 "nbformat_minor": 4
}
