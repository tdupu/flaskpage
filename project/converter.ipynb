{
 "cells": [
  {
   "cell_type": "code",
   "execution_count": 1,
   "metadata": {},
   "outputs": [],
   "source": [
    "\"\"\"\n",
    "For back references to work properly it needs to be loaded from the auth environment. \n",
    "\n",
    "Make sure to update the problems.\n",
    "\n",
    "\"\"\"\n",
    "\n",
    "\n",
    "import sys, os\n",
    "sys.path.append('./..')\n",
    "sys.path.append([\"/Users/taylordupuy/Documents/web-development/dev/flaskpage\",\"/Users/taylordupuy/Documents/web-development/dev/flaskpage/project\"])"
   ]
  },
  {
   "cell_type": "code",
   "execution_count": 2,
   "metadata": {},
   "outputs": [],
   "source": [
    "#without adding data to the database queries will not work.\n",
    "os.remove('../data/db.sqlite')"
   ]
  },
  {
   "cell_type": "code",
   "execution_count": 3,
   "metadata": {},
   "outputs": [
    {
     "data": {
      "text/plain": [
       "\"\\n#import models fails\\nfrom flask import Flask\\nfrom flask_sqlalchemy import SQLAlchemy\\nfrom models import User, Submission, Problem, Course\\n\\napp = Flask(__name__)\\napp.config['SQLALCHEMY_DATABASE_URI'] = 'sqlite:///db.sqlite'\\ndbb = SQLAlchemy(app)\\ndbb.init_app(app)\\n\""
      ]
     },
     "execution_count": 3,
     "metadata": {},
     "output_type": "execute_result"
    }
   ],
   "source": [
    "#This command needs to be run from the auth environment or it won't run.\n",
    "#from project import db, create_app\n",
    "#db.create_all(app=create_app())\n",
    "\n",
    "\"\"\" \n",
    "from project import db, create_app\n",
    "\n",
    "app=create_app()\n",
    "app.config['SQLALCHEMY_DATABASE_URI'] = 'sqlite:///db.sqlite'\n",
    "with app.app_context():\n",
    "    db.create_all()\n",
    "\"\"\"\n",
    "\n",
    "\"\"\"\n",
    "with app.app_context():\n",
    "    users=db.session.query(User).all()\n",
    "\"\"\"\n",
    "\n",
    "\"\"\"\n",
    "#import models fails\n",
    "from flask import Flask\n",
    "from flask_sqlalchemy import SQLAlchemy\n",
    "from models import User, Submission, Problem, Course\n",
    "\n",
    "app = Flask(__name__)\n",
    "app.config['SQLALCHEMY_DATABASE_URI'] = 'sqlite:///db.sqlite'\n",
    "dbb = SQLAlchemy(app)\n",
    "dbb.init_app(app)\n",
    "\"\"\""
   ]
  },
  {
   "cell_type": "code",
   "execution_count": 4,
   "metadata": {},
   "outputs": [],
   "source": [
    "############################\n",
    "from werkzeug.security import generate_password_hash, check_password_hash\n",
    "\n",
    "sys.path.append('/users/taylordupuy/Documents/web-development/dev/excel_tools')\n",
    "sys.path.append('/users/taylordupuy/Documents/web-development/dev/email_tools')\n",
    "\n",
    "from table_editor import SheetObject\n",
    "\n",
    "R=SheetObject('/users/taylordupuy/Documents/web-development/data/algebra-one/20/f/roster.xlsx','roster')\n",
    "S=SheetObject('/users/taylordupuy/Documents/web-development/data/algebra-one/20/f/roster.xlsx','submissions')\n",
    "A=SheetObject('/users/taylordupuy/Documents/web-development/data/algebra-one/20/f/roster.xlsx','assignments')\n",
    "P=SheetObject('/users/taylordupuy/Documents/web-development/data/algebra-one/20/f/roster-test.xlsx','assignments')\n",
    "\n",
    "from database_declarative import User, Submission, Problem, Course, Base\n",
    "#from models import db\n",
    "#from models import User, Submission, Problem, Course\n",
    "from sqlalchemy import create_engine\n",
    "import numpy as np\n",
    "from email_functions import *\n",
    "from sqlalchemy import or_, and_\n",
    "from sqlalchemy.orm import relationship\n",
    "\n",
    "#engine = create_engine('sqlite:///db.sqlite')\n",
    "engine = create_engine('sqlite:///../data/db.sqlite')\n",
    "\n",
    "\n",
    "Base.metadata.bind = engine\n",
    "from sqlalchemy.orm import sessionmaker\n",
    "DBSession = sessionmaker()\n",
    "DBSession.bind = engine\n",
    "session = DBSession()\n",
    "    \n",
    "Base.metadata.create_all(engine)"
   ]
  },
  {
   "cell_type": "code",
   "execution_count": 5,
   "metadata": {},
   "outputs": [],
   "source": [
    "def get_email(netid):\n",
    "    user=session.query(User).filter(User.netid==netid).first()\n",
    "    return user.email"
   ]
  },
  {
   "cell_type": "code",
   "execution_count": 6,
   "metadata": {},
   "outputs": [],
   "source": [
    "# Insert an Address in the address table\n",
    "algebra = Course(\n",
    "    coursename = 'algebra-one',\n",
    "    year=20,\n",
    "    term = 'f', #F=Fall, S=Spring, U=Summer,\n",
    "    coursenumber = 'Math 251', #used to be class\n",
    "    uvm_course = 1,\n",
    "    zulipurl = 'https://uvm-mathematics.zulipchat.com',\n",
    "    zuliprc = '',\n",
    "    homepage = 'https://www.uvm.edu/~tdupuy/',\n",
    "    size = 36\n",
    ")\n",
    "session.add(algebra)\n",
    "session.commit()"
   ]
  },
  {
   "cell_type": "code",
   "execution_count": 7,
   "metadata": {},
   "outputs": [
    {
     "data": {
      "text/plain": [
       "\"\\nfrom sqlalchemy.ext.declarative import DeclarativeMeta\\n\\nclass AlchemyEncoder(json.JSONEncoder):\\n\\n    def default(self, obj):\\n        if isinstance(obj.__class__, DeclarativeMeta):\\n            # an SQLAlchemy class\\n            fields = {}\\n            for field in [x for x in dir(obj) if not x.startswith('_') and x != 'metadata']:\\n                data = obj.__getattribute__(field)\\n                try:\\n                    json.dumps(data) # this will fail on non-encodable values, like other classes\\n                    fields[field] = data\\n                except TypeError:\\n                    fields[field] = None\\n            # a json-encodable dict\\n            return fields\\n\\n        return json.JSONEncoder.default(self, obj)\\n    \""
      ]
     },
     "execution_count": 7,
     "metadata": {},
     "output_type": "execute_result"
    }
   ],
   "source": [
    "# Insert an Address in the address table\n",
    "algebraic_topology = Course(\n",
    "    coursename = 'algebraic-topology',\n",
    "    year=20,\n",
    "    term = 'f', #F=Fall, S=Spring, U=Summer,\n",
    "    coursenumber = 'Math 354', #used to be class\n",
    "    uvm_course = 1,\n",
    "    zulipurl = 'https://uvm-mathematics.zulipchat.com',\n",
    "    zuliprc = '',\n",
    "    homepage = 'https://www.uvm.edu/~tdupuy/',\n",
    "    size = 9\n",
    ")\n",
    "session.add(algebraic_topology)\n",
    "session.commit()\n",
    "\n",
    "\"\"\"\n",
    "from sqlalchemy.ext.declarative import DeclarativeMeta\n",
    "\n",
    "class AlchemyEncoder(json.JSONEncoder):\n",
    "\n",
    "    def default(self, obj):\n",
    "        if isinstance(obj.__class__, DeclarativeMeta):\n",
    "            # an SQLAlchemy class\n",
    "            fields = {}\n",
    "            for field in [x for x in dir(obj) if not x.startswith('_') and x != 'metadata']:\n",
    "                data = obj.__getattribute__(field)\n",
    "                try:\n",
    "                    json.dumps(data) # this will fail on non-encodable values, like other classes\n",
    "                    fields[field] = data\n",
    "                except TypeError:\n",
    "                    fields[field] = None\n",
    "            # a json-encodable dict\n",
    "            return fields\n",
    "\n",
    "        return json.JSONEncoder.default(self, obj)\n",
    "    \"\"\""
   ]
  },
  {
   "cell_type": "code",
   "execution_count": 8,
   "metadata": {},
   "outputs": [
    {
     "data": {
      "text/plain": [
       "\"\\ndate_str = '12/29/2017' # The date - 29 Dec 2017\\nformat_str = '%m/%d/%Y' # The format\\ndatetime_obj = datetime.datetime.strptime(date_str, format_str)\\ndatetime_obj.timestamp()\\n\""
      ]
     },
     "execution_count": 8,
     "metadata": {},
     "output_type": "execute_result"
    }
   ],
   "source": [
    "algebra=session.query(Course).filter(and_(\n",
    "    Course.coursename == 'algebra-one',\n",
    "    Course.year==20,\n",
    "    Course.term == 'f')\n",
    ").first()\n",
    "\n",
    "topology=session.query(Course).filter(and_(\n",
    "    Course.coursename == 'algebraic-topology',\n",
    "    Course.year==20,\n",
    "    Course.term == 'f')\n",
    ").first()\n",
    "\n",
    "myproblems = A.get({})\n",
    "\n",
    "for x in myproblems:\n",
    "    new_problem = Problem(\n",
    "    coursename = 'algebra-one', #algebra-one, algebraic-topology, agittoc1, agittoc2, agittoc3\n",
    "    year = 2020,\n",
    "    term = 'f', #f=Fall, s=Spring, u=Summer\n",
    "    assignment = x['assignment'],\n",
    "    problem = x['problem'],\n",
    "    #references = x['']\n",
    "    datasets={'subs':[],\n",
    "                  'waiting':[],\n",
    "                  'matched':[],\n",
    "                  'reviewed':[],\n",
    "                  'completed':[],\n",
    "                  'scores':[],\n",
    "                  'rt':[],\n",
    "                  'mt':[]}\n",
    "    )\n",
    "    session.add(new_problem)\n",
    "\n",
    "session.commit()\n",
    "\n",
    "\"\"\"\n",
    "date_str = '12/29/2017' # The date - 29 Dec 2017\n",
    "format_str = '%m/%d/%Y' # The format\n",
    "datetime_obj = datetime.datetime.strptime(date_str, format_str)\n",
    "datetime_obj.timestamp()\n",
    "\"\"\""
   ]
  },
  {
   "cell_type": "code",
   "execution_count": 9,
   "metadata": {},
   "outputs": [
    {
     "name": "stdout",
     "output_type": "stream",
     "text": [
      "[]\n",
      "[{'assignment': 1, 'problem': 1, 'description': 'DF section 1.1: exercises 1,2,4. Submit solutions to 1(c,e), 2(c,e), 6(c,e,f)', 'comment': None, 'due_date': None, 'video1': None, 'video2': None, 'special_notes': None, 'locked': 0, 'number_of_submissions': None, 'mean_score': None, 'median_score': None, 'std_dev': None, 'max_score': None, 'min_score': None, 'tdupuy': None, 'cvincen1': None, 'jschmoe': None, 'jdoe': None}]\n",
      "[{'assignment': 1, 'problem': 2, 'description': 'DF section 1.1: exercise 9', 'comment': None, 'due_date': None, 'video1': None, 'video2': None, 'special_notes': None, 'locked': 0, 'number_of_submissions': None, 'mean_score': None, 'median_score': None, 'std_dev': None, 'max_score': None, 'min_score': None, 'tdupuy': None, 'cvincen1': None, 'jschmoe': None, 'jdoe': None}]\n",
      "[{'assignment': 1, 'problem': 3, 'description': 'DF section 1.1: exercises 11-14', 'comment': None, 'due_date': None, 'video1': None, 'video2': None, 'special_notes': None, 'locked': 0, 'number_of_submissions': None, 'mean_score': None, 'median_score': None, 'std_dev': None, 'max_score': None, 'min_score': None, 'tdupuy': None, 'cvincen1': None, 'jschmoe': None, 'jdoe': None}]\n",
      "[{'assignment': 1, 'problem': 4, 'description': 'DF section 1.1: exercise 18', 'comment': None, 'due_date': None, 'video1': None, 'video2': None, 'special_notes': None, 'locked': 0, 'number_of_submissions': None, 'mean_score': None, 'median_score': None, 'std_dev': None, 'max_score': None, 'min_score': None, 'tdupuy': None, 'cvincen1': None, 'jschmoe': None, 'jdoe': None}]\n",
      "[{'assignment': 1, 'problem': 5, 'description': 'DF section 1.1: exercise 20', 'comment': None, 'due_date': None, 'video1': None, 'video2': None, 'special_notes': None, 'locked': 0, 'number_of_submissions': None, 'mean_score': None, 'median_score': None, 'std_dev': None, 'max_score': None, 'min_score': None, 'tdupuy': None, 'cvincen1': None, 'jschmoe': None, 'jdoe': None}]\n",
      "[{'assignment': 1, 'problem': 6, 'description': 'DF section 1.1: exercise 25', 'comment': None, 'due_date': None, 'video1': None, 'video2': None, 'special_notes': None, 'locked': 0, 'number_of_submissions': None, 'mean_score': None, 'median_score': None, 'std_dev': None, 'max_score': None, 'min_score': None, 'tdupuy': None, 'cvincen1': None, 'jschmoe': None, 'jdoe': None}]\n",
      "[{'assignment': 1, 'problem': 7, 'description': 'DF section 1.1: exercise 31', 'comment': None, 'due_date': None, 'video1': None, 'video2': None, 'special_notes': None, 'locked': 0, 'number_of_submissions': None, 'mean_score': None, 'median_score': None, 'std_dev': None, 'max_score': None, 'min_score': None, 'tdupuy': None, 'cvincen1': None, 'jschmoe': None, 'jdoe': None}]\n",
      "[{'assignment': 2, 'problem': 1, 'description': 'DF section 1.3: exercises 1-3', 'comment': 'what would the answer be for the ith power of an n cycle?', 'due_date': None, 'video1': None, 'video2': None, 'special_notes': None, 'locked': 0, 'number_of_submissions': None, 'mean_score': None, 'median_score': None, 'std_dev': None, 'max_score': None, 'min_score': None, 'tdupuy': None, 'cvincen1': None, 'jschmoe': None, 'jdoe': None}]\n",
      "[{'assignment': 2, 'problem': 2, 'description': 'DF section 1.3: exercise 14', 'comment': None, 'due_date': None, 'video1': None, 'video2': None, 'special_notes': None, 'locked': 0, 'number_of_submissions': None, 'mean_score': None, 'median_score': None, 'std_dev': None, 'max_score': None, 'min_score': None, 'tdupuy': None, 'cvincen1': None, 'jschmoe': None, 'jdoe': None}]\n",
      "[{'assignment': 2, 'problem': 3, 'description': 'DF section 1.6: exercise 1', 'comment': None, 'due_date': None, 'video1': None, 'video2': None, 'special_notes': None, 'locked': 0, 'number_of_submissions': None, 'mean_score': None, 'median_score': None, 'std_dev': None, 'max_score': None, 'min_score': None, 'tdupuy': None, 'cvincen1': None, 'jschmoe': None, 'jdoe': None}]\n",
      "[{'assignment': 2, 'problem': 4, 'description': 'DF section 1.6: exercises 17, 18', 'comment': None, 'due_date': None, 'video1': None, 'video2': None, 'special_notes': None, 'locked': 0, 'number_of_submissions': None, 'mean_score': None, 'median_score': None, 'std_dev': None, 'max_score': None, 'min_score': None, 'tdupuy': None, 'cvincen1': None, 'jschmoe': None, 'jdoe': None}]\n",
      "[{'assignment': 2, 'problem': 5, 'description': 'DF section 1.7: exercises 4,5,7,8', 'comment': 'these are easy - look for some property of the frouops not shared by the others.', 'due_date': None, 'video1': None, 'video2': None, 'special_notes': None, 'locked': 0, 'number_of_submissions': None, 'mean_score': None, 'median_score': None, 'std_dev': None, 'max_score': None, 'min_score': None, 'tdupuy': None, 'cvincen1': None, 'jschmoe': None, 'jdoe': None}]\n",
      "[{'assignment': 3, 'problem': 1, 'description': 'DF section 1.6: exercise 6', 'comment': None, 'due_date': None, 'video1': None, 'video2': None, 'special_notes': None, 'locked': 0, 'number_of_submissions': None, 'mean_score': None, 'median_score': None, 'std_dev': None, 'max_score': None, 'min_score': None, 'tdupuy': None, 'cvincen1': None, 'jschmoe': None, 'jdoe': None}]\n",
      "[{'assignment': 3, 'problem': 2, 'description': 'DF section 1.6: exercise 21', 'comment': None, 'due_date': None, 'video1': None, 'video2': None, 'special_notes': None, 'locked': 0, 'number_of_submissions': None, 'mean_score': None, 'median_score': None, 'std_dev': None, 'max_score': None, 'min_score': None, 'tdupuy': None, 'cvincen1': None, 'jschmoe': None, 'jdoe': None}]\n",
      "[{'assignment': 3, 'problem': 3, 'description': 'DF section 1.7: exercise 17', 'comment': None, 'due_date': None, 'video1': None, 'video2': None, 'special_notes': None, 'locked': 0, 'number_of_submissions': None, 'mean_score': None, 'median_score': None, 'std_dev': None, 'max_score': None, 'min_score': None, 'tdupuy': None, 'cvincen1': None, 'jschmoe': None, 'jdoe': None}]\n",
      "[{'assignment': 3, 'problem': 4, 'description': 'DF section 2.1: exercises 1,2,11; submit solutions to 1(a,e), 2(a,b,e), 11©', 'comment': None, 'due_date': None, 'video1': None, 'video2': None, 'special_notes': None, 'locked': 0, 'number_of_submissions': None, 'mean_score': None, 'median_score': None, 'std_dev': None, 'max_score': None, 'min_score': None, 'tdupuy': None, 'cvincen1': None, 'jschmoe': None, 'jdoe': None}]\n",
      "[{'assignment': 3, 'problem': 5, 'description': 'DF section 2.1: exercise 10', 'comment': None, 'due_date': None, 'video1': None, 'video2': None, 'special_notes': None, 'locked': 0, 'number_of_submissions': None, 'mean_score': None, 'median_score': None, 'std_dev': None, 'max_score': None, 'min_score': None, 'tdupuy': None, 'cvincen1': None, 'jschmoe': None, 'jdoe': None}]\n",
      "[{'assignment': 3, 'problem': 6, 'description': 'DF section 2.1: exercise 8', 'comment': 'so, except in trivial cases, the union of two subgroups is never a subgroup', 'due_date': None, 'video1': None, 'video2': None, 'special_notes': None, 'locked': 0, 'number_of_submissions': None, 'mean_score': None, 'median_score': None, 'std_dev': None, 'max_score': None, 'min_score': None, 'tdupuy': None, 'cvincen1': None, 'jschmoe': None, 'jdoe': None}]\n",
      "[{'assignment': 4, 'problem': 1, 'description': 'DF section 2.2: exercise 6', 'comment': \"for (a), H is already given as a group, so it's already closed - all you need to show is containment; a similar comment applies to (b)\", 'due_date': None, 'video1': None, 'video2': None, 'special_notes': None, 'locked': 0, 'number_of_submissions': None, 'mean_score': None, 'median_score': None, 'std_dev': None, 'max_score': None, 'min_score': None, 'tdupuy': None, 'cvincen1': None, 'jschmoe': None, 'jdoe': None}]\n",
      "[{'assignment': 4, 'problem': 2, 'description': 'DF section 2.3: exercises 1,4,5', 'comment': None, 'due_date': None, 'video1': None, 'video2': None, 'special_notes': None, 'locked': 0, 'number_of_submissions': None, 'mean_score': None, 'median_score': None, 'std_dev': None, 'max_score': None, 'min_score': None, 'tdupuy': None, 'cvincen1': None, 'jschmoe': None, 'jdoe': None}]\n",
      "[{'assignment': 4, 'problem': 3, 'description': 'DF section 2.3: exercise 26', 'comment': None, 'due_date': None, 'video1': None, 'video2': None, 'special_notes': None, 'locked': 0, 'number_of_submissions': None, 'mean_score': None, 'median_score': None, 'std_dev': None, 'max_score': None, 'min_score': None, 'tdupuy': None, 'cvincen1': None, 'jschmoe': None, 'jdoe': None}]\n",
      "[{'assignment': 4, 'problem': 4, 'description': 'DF section 2.4: exercises 14,15', 'comment': None, 'due_date': None, 'video1': None, 'video2': None, 'special_notes': None, 'locked': 0, 'number_of_submissions': None, 'mean_score': None, 'median_score': None, 'std_dev': None, 'max_score': None, 'min_score': None, 'tdupuy': None, 'cvincen1': None, 'jschmoe': None, 'jdoe': None}]\n",
      "[{'assignment': 4, 'problem': 5, 'description': 'DF section 2.5: exercise 11', 'comment': 'this is very easy - use the lattices for the smaller groups', 'due_date': None, 'video1': None, 'video2': None, 'special_notes': None, 'locked': 0, 'number_of_submissions': None, 'mean_score': None, 'median_score': None, 'std_dev': None, 'max_score': None, 'min_score': None, 'tdupuy': None, 'cvincen1': None, 'jschmoe': None, 'jdoe': None}]\n",
      "[{'assignment': 5, 'problem': 1, 'description': 'DF section 3.1: exercise 1', 'comment': 'Note: recall that the notation f^{-1}(A) means element that map to A under f (the \"full pre-image of A\") -- even though f^{-1} is NOT a function in general.', 'due_date': None, 'video1': None, 'video2': None, 'special_notes': None, 'locked': 0, 'number_of_submissions': None, 'mean_score': None, 'median_score': None, 'std_dev': None, 'max_score': None, 'min_score': None, 'tdupuy': None, 'cvincen1': None, 'jschmoe': None, 'jdoe': None}]\n",
      "[{'assignment': 5, 'problem': 2, 'description': 'DF section 3.1: exercises 6,7,8,9', 'comment': None, 'due_date': None, 'video1': None, 'video2': None, 'special_notes': None, 'locked': 0, 'number_of_submissions': None, 'mean_score': None, 'median_score': None, 'std_dev': None, 'max_score': None, 'min_score': None, 'tdupuy': None, 'cvincen1': None, 'jschmoe': None, 'jdoe': None}, {'assignment': 5, 'problem': 2, 'description': 'DF section 3.1: exercises 4,5', 'comment': None, 'due_date': None, 'video1': None, 'video2': None, 'special_notes': None, 'locked': 0, 'number_of_submissions': None, 'mean_score': None, 'median_score': None, 'std_dev': None, 'max_score': None, 'min_score': None, 'tdupuy': None, 'cvincen1': None, 'jschmoe': None, 'jdoe': None}]\n",
      "[]\n",
      "[{'assignment': 6, 'problem': 1, 'description': 'DF section 3.1: exercise 24', 'comment': None, 'due_date': None, 'video1': None, 'video2': None, 'special_notes': None, 'locked': 0, 'number_of_submissions': None, 'mean_score': None, 'median_score': None, 'std_dev': None, 'max_score': None, 'min_score': None, 'tdupuy': None, 'cvincen1': None, 'jschmoe': None, 'jdoe': None}]\n",
      "[{'assignment': 6, 'problem': 2, 'description': 'DF section 3.1: exercise 18', 'comment': None, 'due_date': None, 'video1': None, 'video2': None, 'special_notes': None, 'locked': 0, 'number_of_submissions': None, 'mean_score': None, 'median_score': None, 'std_dev': None, 'max_score': None, 'min_score': None, 'tdupuy': None, 'cvincen1': None, 'jschmoe': None, 'jdoe': None}]\n",
      "[{'assignment': 6, 'problem': 3, 'description': 'DF section 3.1: exercise 36', 'comment': None, 'due_date': None, 'video1': None, 'video2': None, 'special_notes': None, 'locked': 0, 'number_of_submissions': None, 'mean_score': None, 'median_score': None, 'std_dev': None, 'max_score': None, 'min_score': None, 'tdupuy': None, 'cvincen1': None, 'jschmoe': None, 'jdoe': None}]\n",
      "[{'assignment': 6, 'problem': 4, 'description': 'DF section 3.1: exercise 42', 'comment': None, 'due_date': None, 'video1': None, 'video2': None, 'special_notes': None, 'locked': 0, 'number_of_submissions': None, 'mean_score': None, 'median_score': None, 'std_dev': None, 'max_score': None, 'min_score': None, 'tdupuy': None, 'cvincen1': None, 'jschmoe': None, 'jdoe': None}]\n",
      "[{'assignment': 6, 'problem': 5, 'description': 'DF section 3.2: exercise 4', 'comment': None, 'due_date': None, 'video1': None, 'video2': None, 'special_notes': None, 'locked': 0, 'number_of_submissions': None, 'mean_score': None, 'median_score': None, 'std_dev': None, 'max_score': None, 'min_score': None, 'tdupuy': None, 'cvincen1': None, 'jschmoe': None, 'jdoe': None}]\n",
      "[{'assignment': 6, 'problem': 6, 'description': 'DF section 3.2: exercise 8', 'comment': None, 'due_date': None, 'video1': None, 'video2': None, 'special_notes': None, 'locked': 0, 'number_of_submissions': None, 'mean_score': None, 'median_score': None, 'std_dev': None, 'max_score': None, 'min_score': None, 'tdupuy': None, 'cvincen1': None, 'jschmoe': None, 'jdoe': None}]\n",
      "[{'assignment': 7, 'problem': 1, 'description': 'DF section 3.2: exercise 14', 'comment': None, 'due_date': None, 'video1': None, 'video2': None, 'special_notes': None, 'locked': 0, 'number_of_submissions': None, 'mean_score': None, 'median_score': None, 'std_dev': None, 'max_score': None, 'min_score': None, 'tdupuy': None, 'cvincen1': None, 'jschmoe': None, 'jdoe': None}]\n",
      "[{'assignment': 7, 'problem': 2, 'description': 'DF section 3.3: exercise 5', 'comment': \"Note: you've done a lot of work for this problem on the previous homework assignment - just quote the results you need from that previous work\", 'due_date': None, 'video1': None, 'video2': None, 'special_notes': None, 'locked': 0, 'number_of_submissions': None, 'mean_score': None, 'median_score': None, 'std_dev': None, 'max_score': None, 'min_score': None, 'tdupuy': None, 'cvincen1': None, 'jschmoe': None, 'jdoe': None}]\n",
      "[{'assignment': 7, 'problem': 3, 'description': 'DF section 3.3: exercise 6', 'comment': 'This is very similar to the previous exercise', 'due_date': None, 'video1': None, 'video2': None, 'special_notes': None, 'locked': 0, 'number_of_submissions': None, 'mean_score': None, 'median_score': None, 'std_dev': None, 'max_score': None, 'min_score': None, 'tdupuy': None, 'cvincen1': None, 'jschmoe': None, 'jdoe': None}]\n",
      "[{'assignment': 7, 'problem': 4, 'description': 'DF section 3.4: exercise 3', 'comment': None, 'due_date': None, 'video1': None, 'video2': None, 'special_notes': None, 'locked': 0, 'number_of_submissions': None, 'mean_score': None, 'median_score': None, 'std_dev': None, 'max_score': None, 'min_score': None, 'tdupuy': None, 'cvincen1': None, 'jschmoe': None, 'jdoe': None}]\n",
      "[{'assignment': 7, 'problem': 5, 'description': 'DF section 3.5: exercise 11', 'comment': None, 'due_date': None, 'video1': None, 'video2': None, 'special_notes': None, 'locked': 0, 'number_of_submissions': None, 'mean_score': None, 'median_score': None, 'std_dev': None, 'max_score': None, 'min_score': None, 'tdupuy': None, 'cvincen1': None, 'jschmoe': None, 'jdoe': None}]\n",
      "[{'assignment': 7, 'problem': 6, 'description': 'DF section 3.5: exercise 14', 'comment': 'possible hint: this is a one liner', 'due_date': None, 'video1': None, 'video2': None, 'special_notes': None, 'locked': 0, 'number_of_submissions': None, 'mean_score': None, 'median_score': None, 'std_dev': None, 'max_score': None, 'min_score': None, 'tdupuy': None, 'cvincen1': None, 'jschmoe': None, 'jdoe': None}]\n",
      "[{'assignment': 8, 'problem': 1, 'description': 'DF section 4.2: exercise 3', 'comment': None, 'due_date': None, 'video1': None, 'video2': None, 'special_notes': None, 'locked': 0, 'number_of_submissions': None, 'mean_score': None, 'median_score': None, 'std_dev': None, 'max_score': None, 'min_score': None, 'tdupuy': None, 'cvincen1': None, 'jschmoe': None, 'jdoe': None}]\n",
      "[{'assignment': 8, 'problem': 2, 'description': 'DF section 4.2: exercise 7', 'comment': 'possible hint: this is an application of our fundamental relation on sizes of orbits in group actions', 'due_date': None, 'video1': None, 'video2': None, 'special_notes': None, 'locked': 0, 'number_of_submissions': None, 'mean_score': None, 'median_score': None, 'std_dev': None, 'max_score': None, 'min_score': None, 'tdupuy': None, 'cvincen1': None, 'jschmoe': None, 'jdoe': None}]\n",
      "[{'assignment': 8, 'problem': 3, 'description': 'DF section 4.3: exercise 5', 'comment': None, 'due_date': None, 'video1': None, 'video2': None, 'special_notes': None, 'locked': None, 'number_of_submissions': None, 'mean_score': None, 'median_score': None, 'std_dev': None, 'max_score': None, 'min_score': None, 'tdupuy': None, 'cvincen1': None, 'jschmoe': None, 'jdoe': None}]\n",
      "[{'assignment': 8, 'problem': 4, 'description': 'DF section 4.3: execises 10, 11', 'comment': None, 'due_date': None, 'video1': None, 'video2': None, 'special_notes': None, 'locked': None, 'number_of_submissions': None, 'mean_score': None, 'median_score': None, 'std_dev': None, 'max_score': None, 'min_score': None, 'tdupuy': None, 'cvincen1': None, 'jschmoe': None, 'jdoe': None}]\n",
      "[{'assignment': 8, 'problem': 5, 'description': 'DF section 4.3: exercise 34', 'comment': None, 'due_date': None, 'video1': None, 'video2': None, 'special_notes': None, 'locked': None, 'number_of_submissions': None, 'mean_score': None, 'median_score': None, 'std_dev': None, 'max_score': None, 'min_score': None, 'tdupuy': None, 'cvincen1': None, 'jschmoe': None, 'jdoe': None}]\n",
      "[{'assignment': 9, 'problem': 1, 'description': 'DF section 5.2: parts (a) and (b) of exercises 1-3', 'comment': None, 'due_date': None, 'video1': None, 'video2': None, 'special_notes': None, 'locked': None, 'number_of_submissions': None, 'mean_score': None, 'median_score': None, 'std_dev': None, 'max_score': None, 'min_score': None, 'tdupuy': None, 'cvincen1': None, 'jschmoe': None, 'jdoe': None}]\n",
      "[{'assignment': 9, 'problem': 2, 'description': 'DF section 5.2: exercise 4', 'comment': None, 'due_date': None, 'video1': None, 'video2': None, 'special_notes': None, 'locked': None, 'number_of_submissions': None, 'mean_score': None, 'median_score': None, 'std_dev': None, 'max_score': None, 'min_score': None, 'tdupuy': None, 'cvincen1': None, 'jschmoe': None, 'jdoe': None}]\n",
      "[{'assignment': 9, 'problem': 3, 'description': 'DF section 4.5: exercise 14', 'comment': None, 'due_date': None, 'video1': None, 'video2': None, 'special_notes': None, 'locked': None, 'number_of_submissions': None, 'mean_score': None, 'median_score': None, 'std_dev': None, 'max_score': None, 'min_score': None, 'tdupuy': None, 'cvincen1': None, 'jschmoe': None, 'jdoe': None}]\n",
      "[{'assignment': 9, 'problem': 4, 'description': 'DF section 4.5: exercise 15', 'comment': None, 'due_date': None, 'video1': None, 'video2': None, 'special_notes': None, 'locked': None, 'number_of_submissions': None, 'mean_score': None, 'median_score': None, 'std_dev': None, 'max_score': None, 'min_score': None, 'tdupuy': None, 'cvincen1': None, 'jschmoe': None, 'jdoe': None}]\n",
      "[{'assignment': 9, 'problem': 5, 'description': 'DF section 4.5: exercise 15', 'comment': None, 'due_date': None, 'video1': None, 'video2': None, 'special_notes': None, 'locked': None, 'number_of_submissions': None, 'mean_score': None, 'median_score': None, 'std_dev': None, 'max_score': None, 'min_score': None, 'tdupuy': None, 'cvincen1': None, 'jschmoe': None, 'jdoe': None}]\n",
      "[{'assignment': 10, 'problem': 1, 'description': 'DF section 4.5: exercise 16', 'comment': None, 'due_date': None, 'video1': None, 'video2': None, 'special_notes': None, 'locked': None, 'number_of_submissions': None, 'mean_score': None, 'median_score': None, 'std_dev': None, 'max_score': None, 'min_score': None, 'tdupuy': None, 'cvincen1': None, 'jschmoe': None, 'jdoe': None}]\n",
      "[{'assignment': 10, 'problem': 2, 'description': 'DF section 4.5: exercise 27', 'comment': None, 'due_date': None, 'video1': None, 'video2': None, 'special_notes': None, 'locked': None, 'number_of_submissions': None, 'mean_score': None, 'median_score': None, 'std_dev': None, 'max_score': None, 'min_score': None, 'tdupuy': None, 'cvincen1': None, 'jschmoe': None, 'jdoe': None}]\n",
      "[{'assignment': 10, 'problem': 3, 'description': 'DF section 7.1: exercises 1,2,3', 'comment': None, 'due_date': None, 'video1': None, 'video2': None, 'special_notes': None, 'locked': None, 'number_of_submissions': None, 'mean_score': None, 'median_score': None, 'std_dev': None, 'max_score': None, 'min_score': None, 'tdupuy': None, 'cvincen1': None, 'jschmoe': None, 'jdoe': None}]\n",
      "[{'assignment': 10, 'problem': 4, 'description': 'DF section 7.1: exercises 5,6. Submit solutions to 5(a,f), 6(c,f)', 'comment': None, 'due_date': None, 'video1': None, 'video2': None, 'special_notes': None, 'locked': None, 'number_of_submissions': None, 'mean_score': None, 'median_score': None, 'std_dev': None, 'max_score': None, 'min_score': None, 'tdupuy': None, 'cvincen1': None, 'jschmoe': None, 'jdoe': None}]\n",
      "[{'assignment': 10, 'problem': 5, 'description': 'DF section 7.1: exercise 11. Also give an example of a ring R that is not an integral domain for which x^2=1 does not imply that x=-1 or x=1.', 'comment': None, 'due_date': None, 'video1': None, 'video2': None, 'special_notes': None, 'locked': None, 'number_of_submissions': None, 'mean_score': None, 'median_score': None, 'std_dev': None, 'max_score': None, 'min_score': None, 'tdupuy': None, 'cvincen1': None, 'jschmoe': None, 'jdoe': None}]\n",
      "[{'assignment': 10, 'problem': 6, 'description': 'DF section 7.1: exercises 15,16', 'comment': None, 'due_date': None, 'video1': None, 'video2': None, 'special_notes': None, 'locked': None, 'number_of_submissions': None, 'mean_score': None, 'median_score': None, 'std_dev': None, 'max_score': None, 'min_score': None, 'tdupuy': None, 'cvincen1': None, 'jschmoe': None, 'jdoe': None}]\n",
      "[{'assignment': 11, 'problem': 1, 'description': 'DF section 7.3: exercise 10', 'comment': None, 'due_date': None, 'video1': None, 'video2': None, 'special_notes': None, 'locked': None, 'number_of_submissions': None, 'mean_score': None, 'median_score': None, 'std_dev': None, 'max_score': None, 'min_score': None, 'tdupuy': None, 'cvincen1': None, 'jschmoe': None, 'jdoe': None}]\n",
      "[{'assignment': 11, 'problem': 2, 'description': 'DF section 7.3: exercise 34', 'comment': None, 'due_date': None, 'video1': None, 'video2': None, 'special_notes': None, 'locked': None, 'number_of_submissions': None, 'mean_score': None, 'median_score': None, 'std_dev': None, 'max_score': None, 'min_score': None, 'tdupuy': None, 'cvincen1': None, 'jschmoe': None, 'jdoe': None}]\n",
      "[{'assignment': 11, 'problem': 3, 'description': 'DF section 9.1: exercises 4,5 ', 'comment': 'These are one-liners.', 'due_date': None, 'video1': None, 'video2': None, 'special_notes': None, 'locked': None, 'number_of_submissions': None, 'mean_score': None, 'median_score': None, 'std_dev': None, 'max_score': None, 'min_score': None, 'tdupuy': None, 'cvincen1': None, 'jschmoe': None, 'jdoe': None}]\n",
      "[{'assignment': 12, 'problem': 1, 'description': 'Construct finite fields of the following orders: 8, 16, 25, 27, 125', 'comment': 'See section 7.4 of DF or the handout. ', 'due_date': None, 'video1': None, 'video2': None, 'special_notes': None, 'locked': None, 'number_of_submissions': None, 'mean_score': None, 'median_score': None, 'std_dev': None, 'max_score': None, 'min_score': None, 'tdupuy': None, 'cvincen1': None, 'jschmoe': None, 'jdoe': None}]\n"
     ]
    }
   ],
   "source": [
    "for p in session.query(Problem).all():\n",
    "    #print(p)\n",
    "    results=P.get({\"assignment\":int(p.assignment),\"problem\":int(p.problem)})\n",
    "    print(results)\n",
    "    if len(results)==1:\n",
    "        #print(results[0])\n",
    "        result = results[0]\n",
    "        p.description=result['description']\n",
    "        p.hints=result['comment']\n",
    "        if result['due_date']==None:\n",
    "            pass\n",
    "        else:\n",
    "            p.due_date=result['due_date'].timestamp()\n",
    "        #print(p.due_date)\n",
    "        p.course=algebra\n",
    "        #print(p.course) this seems to be storing things properly\n",
    "session.commit()"
   ]
  },
  {
   "cell_type": "code",
   "execution_count": 10,
   "metadata": {},
   "outputs": [],
   "source": [
    "myproblem = session.query(Problem).all()[3]"
   ]
  },
  {
   "cell_type": "code",
   "execution_count": 11,
   "metadata": {},
   "outputs": [],
   "source": [
    "mycourse=myproblem.course"
   ]
  },
  {
   "cell_type": "code",
   "execution_count": 12,
   "metadata": {},
   "outputs": [
    {
     "data": {
      "text/plain": [
       "<database_declarative.Course at 0x10ba4e3c8>"
      ]
     },
     "execution_count": 12,
     "metadata": {},
     "output_type": "execute_result"
    }
   ],
   "source": [
    "mycourse"
   ]
  },
  {
   "cell_type": "code",
   "execution_count": 13,
   "metadata": {},
   "outputs": [],
   "source": [
    "#algebra2=session.query(Course).all()[0] #this returned something nontrivial\n",
    "#print(algebra2.problems)\n",
    "#myproblem = session.query(Problem).all()[3]\n",
    "#print(myproblem)\n",
    "#print(myproblem.hints) #this should be None most of the time\n",
    "#print(myproblem.due_date) #this is working now, the zeroeth problem doesn't work\n",
    "#print(myproblem.course)"
   ]
  },
  {
   "cell_type": "code",
   "execution_count": 14,
   "metadata": {},
   "outputs": [],
   "source": [
    "#session.rollback()\n",
    "myusers = R.get({})\n",
    "\n",
    "# Insert a Person in the person table\n",
    "for x in myusers:\n",
    "    new_person = User(\n",
    "        name = x['name'],\n",
    "        pronoun=x['pronoun'],\n",
    "        uvm_student=1,\n",
    "        student_id = x['student_id'],\n",
    "        courses = 'algebra-one/f/20',\n",
    "        major = x['major'],\n",
    "        degree = x['degree'],\n",
    "        credits = x['credits'],\n",
    "        reg_status = x['reg_status'],\n",
    "        reg_data = x['reg_data'],\n",
    "        email = x['email'].lower(),\n",
    "        netid = x['netid'],\n",
    "        password = generate_password_hash(x['password'],method='sha256'),\n",
    "        config={'courses':[{'id':algebra.id,'group':'user'}],'emails':[],'super_user':0})\n",
    "    session.add(new_person)\n",
    "\n",
    "session.commit()"
   ]
  },
  {
   "cell_type": "code",
   "execution_count": 15,
   "metadata": {},
   "outputs": [],
   "source": [
    "mysubs = S.get({})\n",
    "for x in mysubs:\n",
    "    new_sub = Submission(\n",
    "        coursename = 'algebra-one',\n",
    "        year = '2020',\n",
    "        term = 'f',\n",
    "        submission_number = x['submission_number'],\n",
    "        submission_locked = x['submission_locked'],\n",
    "        netid = x['netid'],\n",
    "        email = get_email(x['netid']),\n",
    "        assignment = x['assignment'],\n",
    "        problem = x['problem'],\n",
    "        closed = x['closed'],\n",
    "        submission_time = x['submission_time'],\n",
    "        total_score1 = x['total_score1'],\n",
    "        total_score2 = x['total_score2'],\n",
    "        reviewer1_assignment_time =x['reviewer1_assignment_time'],\n",
    "        reviewer1 = x['reviewer1'],\n",
    "        reviewer1_email = '',\n",
    "        reviewer1_score = x['reviewer1_score'],\n",
    "        review1 = x['review1'],\n",
    "        review1_timestamp = x['review1_timestamp'],\n",
    "        review1_locked = x['review1_locked'],\n",
    "        #bad1, bad2\n",
    "        reviewer2_assignment_time =x['reviewer2_assignment_time'],\n",
    "        reviewer2 = x['reviewer2'],\n",
    "        reviewer2_email = '',\n",
    "        reviewer2_score = x['reviewer2_score'],\n",
    "        review2 = x['review2'],\n",
    "        review2_timestamp = x['review2_timestamp'],\n",
    "        review2_locked = x['review2_locked'],\n",
    "        new_submission = x['new_submission'],\n",
    "        new_match = x['new_match'],\n",
    "        new_review1 = x['new_review1'],\n",
    "        new_review2 = x['new_review2'],\n",
    "        new_completion = x['new_completion'])\n",
    "    session.add(new_sub)\n",
    "\n",
    "session.commit()"
   ]
  },
  {
   "cell_type": "code",
   "execution_count": 16,
   "metadata": {},
   "outputs": [],
   "source": [
    "#need to correct the submissions\n",
    "for s in session.query(Submission).all():\n",
    "    prob=session.query(Problem).filter(and_(\n",
    "        Problem.coursename==s.coursename,\n",
    "        Problem.problem==s.problem,\n",
    "        Problem.assignment==s.assignment)).first()\n",
    "    course=session.query(Course).filter(\n",
    "        Course.coursename==s.coursename).first()\n",
    "    user=session.query(User).filter(User.netid==s.netid).first()\n",
    "    s.prob=prob\n",
    "    s.course=course\n",
    "    s.user=user\n",
    "session.commit()"
   ]
  }
 ],
 "metadata": {
  "kernelspec": {
   "display_name": "Python 3",
   "language": "python",
   "name": "python3"
  },
  "language_info": {
   "codemirror_mode": {
    "name": "ipython",
    "version": 3
   },
   "file_extension": ".py",
   "mimetype": "text/x-python",
   "name": "python",
   "nbconvert_exporter": "python",
   "pygments_lexer": "ipython3",
   "version": "3.7.3"
  }
 },
 "nbformat": 4,
 "nbformat_minor": 4
}
