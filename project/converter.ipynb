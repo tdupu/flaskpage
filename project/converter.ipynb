{
 "cells": [
  {
   "cell_type": "code",
   "execution_count": 28,
   "metadata": {},
   "outputs": [],
   "source": [
    "import sys, os\n",
    "sys.path.append('./..')\n",
    "sys.path.append([\"/Users/taylordupuy/Documents/web-development/dev/flaskpage\",\"/Users/taylordupuy/Documents/web-development/dev/flaskpage/project\"])"
   ]
  },
  {
   "cell_type": "code",
   "execution_count": 5,
   "metadata": {},
   "outputs": [],
   "source": [
    "#without adding data to the database queries will not work.\n",
    "os.remove('/Users/taylordupuy/Documents/web-development/dev/flaskpage/project/db.sqlite')"
   ]
  },
  {
   "cell_type": "code",
   "execution_count": 6,
   "metadata": {},
   "outputs": [
    {
     "data": {
      "text/plain": [
       "\"\\n#import models fails\\nfrom flask import Flask\\nfrom flask_sqlalchemy import SQLAlchemy\\nfrom models import User, Submission, Problem, Course\\n\\napp = Flask(__name__)\\napp.config['SQLALCHEMY_DATABASE_URI'] = 'sqlite:///db.sqlite'\\ndbb = SQLAlchemy(app)\\ndbb.init_app(app)\\n\""
      ]
     },
     "execution_count": 6,
     "metadata": {},
     "output_type": "execute_result"
    }
   ],
   "source": [
    "#This command needs to be run from the auth environment or it won't run.\n",
    "#from project import db, create_app\n",
    "#db.create_all(app=create_app())\n",
    "\n",
    "\"\"\" \n",
    "from project import db, create_app\n",
    "\n",
    "app=create_app()\n",
    "app.config['SQLALCHEMY_DATABASE_URI'] = 'sqlite:///db.sqlite'\n",
    "with app.app_context():\n",
    "    db.create_all()\n",
    "\"\"\"\n",
    "\n",
    "\"\"\"\n",
    "with app.app_context():\n",
    "    users=db.session.query(User).all()\n",
    "\"\"\"\n",
    "\n",
    "\"\"\"\n",
    "#import models fails\n",
    "from flask import Flask\n",
    "from flask_sqlalchemy import SQLAlchemy\n",
    "from models import User, Submission, Problem, Course\n",
    "\n",
    "app = Flask(__name__)\n",
    "app.config['SQLALCHEMY_DATABASE_URI'] = 'sqlite:///db.sqlite'\n",
    "dbb = SQLAlchemy(app)\n",
    "dbb.init_app(app)\n",
    "\"\"\""
   ]
  },
  {
   "cell_type": "code",
   "execution_count": 29,
   "metadata": {},
   "outputs": [],
   "source": [
    "############################\n",
    "from werkzeug.security import generate_password_hash, check_password_hash\n",
    "\n",
    "sys.path.append('/users/taylordupuy/Documents/web-development/dev/excel_tools')\n",
    "sys.path.append('/users/taylordupuy/Documents/web-development/dev/email_tools')\n",
    "\n",
    "from table_editor import SheetObject\n",
    "\n",
    "R=SheetObject('/users/taylordupuy/Documents/web-development/data/algebra-one/20/f/roster.xlsx','roster')\n",
    "S=SheetObject('/users/taylordupuy/Documents/web-development/data/algebra-one/20/f/roster.xlsx','submissions')\n",
    "A=SheetObject('/users/taylordupuy/Documents/web-development/data/algebra-one/20/f/roster.xlsx','assignments')\n",
    "P=SheetObject('/users/taylordupuy/Documents/web-development/data/algebra-one/20/f/roster-test.xlsx','assignments')\n",
    "\n",
    "from database_declarative import User, Submission, Problem, Course, Base\n",
    "#from models import db\n",
    "#from models import User, Submission, Problem, Course\n",
    "from sqlalchemy import create_engine\n",
    "import numpy as np\n",
    "from email_functions import *\n",
    "from sqlalchemy import or_, and_\n",
    "from sqlalchemy.orm import relationship\n",
    "\n",
    "#engine = create_engine('sqlite:///db.sqlite')\n",
    "engine = create_engine('sqlite:///../data/db.sqlite')\n",
    "\n",
    "\n",
    "Base.metadata.bind = engine\n",
    "from sqlalchemy.orm import sessionmaker\n",
    "DBSession = sessionmaker()\n",
    "DBSession.bind = engine\n",
    "session = DBSession()\n",
    "\n",
    "def is_reviewed(s):\n",
    "    return s.review1_timestamp>-1 and s.review2_timestamp>-1\n",
    "\n",
    "def is_complete(s):\n",
    "    if is_reviewed(s):\n",
    "        a=s.assignment\n",
    "        p=s.problem\n",
    "        r1 = s.reviewer1\n",
    "        r2 = s.reviewer2\n",
    "        subs = session.query(Submission).filter( and_(or_(Submission.netid==r1,Submission.netid==r2),Submission.assignment ==a,Submission.problem ==p))\n",
    "        if is_reviewed(subs[0]) and is_reviewed(subs[1]):\n",
    "            return True\n",
    "        else: \n",
    "            return False\n",
    "    else:\n",
    "        return False\n",
    "    \n",
    "def is_matched(s):\n",
    "    if s.reviewer1_assignment_time>-1 and s.reviewer2_assignment_time>-1:\n",
    "        return True\n",
    "    else:\n",
    "        return False\n",
    "    \n",
    "def get_grade(user,ass):\n",
    "    \"\"\"\n",
    "    get_grade('yshi9',1)\n",
    "    7.875473484848484\n",
    "    \"\"\"\n",
    "    subs=session.query(Submission).filter( and_(Submission.netid==user, Submission.assignment==ass))\n",
    "    subs = sorted(subs, key=lambda s: s.total_score2)\n",
    "    return np.mean([s.total_score2 for s in subs[0:2]])\n",
    "\n",
    "def get_email(netid):\n",
    "    user=session.query(User).filter(User.netid==netid).first()\n",
    "    return user.email\n",
    "\n",
    "def strdate_to_int(s):\n",
    "    time.mktime(datetime.datetime.strptime(s, \"%m/%d/%Y\").timetuple())\n",
    "    \n",
    "def string_to_timestamp(date_str, format_str='%m/%d/%Y'):\n",
    "    datetime_obj = datetime.datetime.strptime(date_str, format_str)\n",
    "    return datetime_obj.timestamp()\n",
    "    \n",
    "Base.metadata.create_all(engine)"
   ]
  },
  {
   "cell_type": "code",
   "execution_count": 8,
   "metadata": {},
   "outputs": [],
   "source": [
    "# Insert an Address in the address table\n",
    "algebra = Course(\n",
    "    coursename = 'algebra-one',\n",
    "    year=20,\n",
    "    term = 'f', #F=Fall, S=Spring, U=Summer,\n",
    "    coursenumber = 'Math 251', #used to be class\n",
    "    uvm_course = 1,\n",
    "    zulipurl = 'https://uvm-mathematics.zulipchat.com',\n",
    "    zuliprc = '',\n",
    "    homepage = 'https://www.uvm.edu/~tdupuy/',\n",
    "    size = 36\n",
    ")\n",
    "session.add(algebra)\n",
    "session.commit()"
   ]
  },
  {
   "cell_type": "code",
   "execution_count": 9,
   "metadata": {},
   "outputs": [
    {
     "data": {
      "text/plain": [
       "\"\\nfrom sqlalchemy.ext.declarative import DeclarativeMeta\\n\\nclass AlchemyEncoder(json.JSONEncoder):\\n\\n    def default(self, obj):\\n        if isinstance(obj.__class__, DeclarativeMeta):\\n            # an SQLAlchemy class\\n            fields = {}\\n            for field in [x for x in dir(obj) if not x.startswith('_') and x != 'metadata']:\\n                data = obj.__getattribute__(field)\\n                try:\\n                    json.dumps(data) # this will fail on non-encodable values, like other classes\\n                    fields[field] = data\\n                except TypeError:\\n                    fields[field] = None\\n            # a json-encodable dict\\n            return fields\\n\\n        return json.JSONEncoder.default(self, obj)\\n    \""
      ]
     },
     "execution_count": 9,
     "metadata": {},
     "output_type": "execute_result"
    }
   ],
   "source": [
    "# Insert an Address in the address table\n",
    "algebraic_topology = Course(\n",
    "    coursename = 'algebraic-topology',\n",
    "    year=20,\n",
    "    term = 'f', #F=Fall, S=Spring, U=Summer,\n",
    "    coursenumber = 'Math 354', #used to be class\n",
    "    uvm_course = 1,\n",
    "    zulipurl = 'https://uvm-mathematics.zulipchat.com',\n",
    "    zuliprc = '',\n",
    "    homepage = 'https://www.uvm.edu/~tdupuy/',\n",
    "    size = 9\n",
    ")\n",
    "session.add(algebraic_topology)\n",
    "session.commit()\n",
    "\n",
    "\"\"\"\n",
    "from sqlalchemy.ext.declarative import DeclarativeMeta\n",
    "\n",
    "class AlchemyEncoder(json.JSONEncoder):\n",
    "\n",
    "    def default(self, obj):\n",
    "        if isinstance(obj.__class__, DeclarativeMeta):\n",
    "            # an SQLAlchemy class\n",
    "            fields = {}\n",
    "            for field in [x for x in dir(obj) if not x.startswith('_') and x != 'metadata']:\n",
    "                data = obj.__getattribute__(field)\n",
    "                try:\n",
    "                    json.dumps(data) # this will fail on non-encodable values, like other classes\n",
    "                    fields[field] = data\n",
    "                except TypeError:\n",
    "                    fields[field] = None\n",
    "            # a json-encodable dict\n",
    "            return fields\n",
    "\n",
    "        return json.JSONEncoder.default(self, obj)\n",
    "    \"\"\""
   ]
  },
  {
   "cell_type": "code",
   "execution_count": 10,
   "metadata": {},
   "outputs": [],
   "source": [
    "algebra=session.query(Course).filter(and_(\n",
    "    Course.coursename == 'algebra-one',\n",
    "    Course.year==2020,\n",
    "    Course.term == 'f')\n",
    ").first()\n",
    "\n",
    "topology=session.query(Course).filter(and_(\n",
    "    Course.coursename == 'algebraic-topology',\n",
    "    Course.year==20,\n",
    "    Course.term == 'f')\n",
    ").first()\n",
    "\n",
    "myproblems = A.get({})\n",
    "\n",
    "for x in myproblems:\n",
    "    new_problem = Problem(\n",
    "    coursename = 'algebra-one', #algebra-one, algebraic-topology, agittoc1, agittoc2, agittoc3\n",
    "    year = 2020,\n",
    "    term = 'f', #f=Fall, s=Spring, u=Summer\n",
    "    assignment = x['assignment'],\n",
    "    problem = x['problem'],\n",
    "    #references = x['']\n",
    "    datasets={'subs':[],\n",
    "                  'waiting':[],\n",
    "                  'matched':[],\n",
    "                  'reviewed':[],\n",
    "                  'completed':[],\n",
    "                  'scores':[],\n",
    "                  'rt':[],\n",
    "                  'mt':[]}\n",
    "    )\n",
    "    session.add(new_problem)\n",
    "\n",
    "session.commit()"
   ]
  },
  {
   "cell_type": "code",
   "execution_count": 13,
   "metadata": {},
   "outputs": [
    {
     "name": "stdout",
     "output_type": "stream",
     "text": [
      "<database_declarative.Course object at 0x10dbf3438>\n"
     ]
    }
   ],
   "source": [
    "print(algebra)"
   ]
  },
  {
   "cell_type": "code",
   "execution_count": 14,
   "metadata": {},
   "outputs": [
    {
     "data": {
      "text/plain": [
       "1514523600.0"
      ]
     },
     "execution_count": 14,
     "metadata": {},
     "output_type": "execute_result"
    }
   ],
   "source": [
    "date_str = '12/29/2017' # The date - 29 Dec 2017\n",
    "format_str = '%m/%d/%Y' # The format\n",
    "datetime_obj = datetime.datetime.strptime(date_str, format_str)\n",
    "datetime_obj.timestamp()"
   ]
  },
  {
   "cell_type": "code",
   "execution_count": 21,
   "metadata": {},
   "outputs": [
    {
     "name": "stdout",
     "output_type": "stream",
     "text": [
      "[]\n",
      "[{'assignment': 1, 'problem': 1, 'description': 'DF section 1.1: exercises 1,2,4. Submit solutions to 1(c,e), 2(c,e), 6(c,e,f)', 'comment': None, 'due_date': None, 'video1': None, 'video2': None, 'special_notes': None, 'locked': 0, 'number_of_submissions': None, 'mean_score': None, 'median_score': None, 'std_dev': None, 'max_score': None, 'min_score': None, 'tdupuy': None, 'cvincen1': None, 'jschmoe': None, 'jdoe': None}]\n",
      "[{'assignment': 1, 'problem': 2, 'description': 'DF section 1.1: exercise 9', 'comment': None, 'due_date': None, 'video1': None, 'video2': None, 'special_notes': None, 'locked': 0, 'number_of_submissions': None, 'mean_score': None, 'median_score': None, 'std_dev': None, 'max_score': None, 'min_score': None, 'tdupuy': None, 'cvincen1': None, 'jschmoe': None, 'jdoe': None}]\n",
      "[{'assignment': 1, 'problem': 3, 'description': 'DF section 1.1: exercises 11-14', 'comment': None, 'due_date': None, 'video1': None, 'video2': None, 'special_notes': None, 'locked': 0, 'number_of_submissions': None, 'mean_score': None, 'median_score': None, 'std_dev': None, 'max_score': None, 'min_score': None, 'tdupuy': None, 'cvincen1': None, 'jschmoe': None, 'jdoe': None}]\n",
      "[{'assignment': 1, 'problem': 4, 'description': 'DF section 1.1: exercise 18', 'comment': None, 'due_date': None, 'video1': None, 'video2': None, 'special_notes': None, 'locked': 0, 'number_of_submissions': None, 'mean_score': None, 'median_score': None, 'std_dev': None, 'max_score': None, 'min_score': None, 'tdupuy': None, 'cvincen1': None, 'jschmoe': None, 'jdoe': None}]\n",
      "[{'assignment': 1, 'problem': 5, 'description': 'DF section 1.1: exercise 20', 'comment': None, 'due_date': None, 'video1': None, 'video2': None, 'special_notes': None, 'locked': 0, 'number_of_submissions': None, 'mean_score': None, 'median_score': None, 'std_dev': None, 'max_score': None, 'min_score': None, 'tdupuy': None, 'cvincen1': None, 'jschmoe': None, 'jdoe': None}]\n",
      "[{'assignment': 1, 'problem': 6, 'description': 'DF section 1.1: exercise 25', 'comment': None, 'due_date': None, 'video1': None, 'video2': None, 'special_notes': None, 'locked': 0, 'number_of_submissions': None, 'mean_score': None, 'median_score': None, 'std_dev': None, 'max_score': None, 'min_score': None, 'tdupuy': None, 'cvincen1': None, 'jschmoe': None, 'jdoe': None}]\n",
      "[{'assignment': 1, 'problem': 7, 'description': 'DF section 1.1: exercise 31', 'comment': None, 'due_date': None, 'video1': None, 'video2': None, 'special_notes': None, 'locked': 0, 'number_of_submissions': None, 'mean_score': None, 'median_score': None, 'std_dev': None, 'max_score': None, 'min_score': None, 'tdupuy': None, 'cvincen1': None, 'jschmoe': None, 'jdoe': None}]\n",
      "[{'assignment': 2, 'problem': 1, 'description': 'DF section 1.3: exercises 1-3', 'comment': 'what would the answer be for the ith power of an n cycle?', 'due_date': None, 'video1': None, 'video2': None, 'special_notes': None, 'locked': 0, 'number_of_submissions': None, 'mean_score': None, 'median_score': None, 'std_dev': None, 'max_score': None, 'min_score': None, 'tdupuy': None, 'cvincen1': None, 'jschmoe': None, 'jdoe': None}]\n",
      "[{'assignment': 2, 'problem': 2, 'description': 'DF section 1.3: exercise 14', 'comment': None, 'due_date': None, 'video1': None, 'video2': None, 'special_notes': None, 'locked': 0, 'number_of_submissions': None, 'mean_score': None, 'median_score': None, 'std_dev': None, 'max_score': None, 'min_score': None, 'tdupuy': None, 'cvincen1': None, 'jschmoe': None, 'jdoe': None}]\n",
      "[{'assignment': 2, 'problem': 3, 'description': 'DF section 1.6: exercise 1', 'comment': None, 'due_date': None, 'video1': None, 'video2': None, 'special_notes': None, 'locked': 0, 'number_of_submissions': None, 'mean_score': None, 'median_score': None, 'std_dev': None, 'max_score': None, 'min_score': None, 'tdupuy': None, 'cvincen1': None, 'jschmoe': None, 'jdoe': None}]\n",
      "[{'assignment': 2, 'problem': 4, 'description': 'DF section 1.6: exercises 17, 18', 'comment': None, 'due_date': None, 'video1': None, 'video2': None, 'special_notes': None, 'locked': 0, 'number_of_submissions': None, 'mean_score': None, 'median_score': None, 'std_dev': None, 'max_score': None, 'min_score': None, 'tdupuy': None, 'cvincen1': None, 'jschmoe': None, 'jdoe': None}]\n",
      "[{'assignment': 2, 'problem': 5, 'description': 'DF section 1.7: exercises 4,5,7,8', 'comment': 'these are easy - look for some property of the frouops not shared by the others.', 'due_date': None, 'video1': None, 'video2': None, 'special_notes': None, 'locked': 0, 'number_of_submissions': None, 'mean_score': None, 'median_score': None, 'std_dev': None, 'max_score': None, 'min_score': None, 'tdupuy': None, 'cvincen1': None, 'jschmoe': None, 'jdoe': None}]\n",
      "[{'assignment': 3, 'problem': 1, 'description': 'DF section 1.6: exercise 6', 'comment': None, 'due_date': None, 'video1': None, 'video2': None, 'special_notes': None, 'locked': 0, 'number_of_submissions': None, 'mean_score': None, 'median_score': None, 'std_dev': None, 'max_score': None, 'min_score': None, 'tdupuy': None, 'cvincen1': None, 'jschmoe': None, 'jdoe': None}]\n",
      "[{'assignment': 3, 'problem': 2, 'description': 'DF section 1.6: exercise 21', 'comment': None, 'due_date': None, 'video1': None, 'video2': None, 'special_notes': None, 'locked': 0, 'number_of_submissions': None, 'mean_score': None, 'median_score': None, 'std_dev': None, 'max_score': None, 'min_score': None, 'tdupuy': None, 'cvincen1': None, 'jschmoe': None, 'jdoe': None}]\n",
      "[{'assignment': 3, 'problem': 3, 'description': 'DF section 1.7: exercise 17', 'comment': None, 'due_date': None, 'video1': None, 'video2': None, 'special_notes': None, 'locked': 0, 'number_of_submissions': None, 'mean_score': None, 'median_score': None, 'std_dev': None, 'max_score': None, 'min_score': None, 'tdupuy': None, 'cvincen1': None, 'jschmoe': None, 'jdoe': None}]\n",
      "[{'assignment': 3, 'problem': 4, 'description': 'DF section 2.1: exercises 1,2,11; submit solutions to 1(a,e), 2(a,b,e), 11©', 'comment': None, 'due_date': None, 'video1': None, 'video2': None, 'special_notes': None, 'locked': 0, 'number_of_submissions': None, 'mean_score': None, 'median_score': None, 'std_dev': None, 'max_score': None, 'min_score': None, 'tdupuy': None, 'cvincen1': None, 'jschmoe': None, 'jdoe': None}]\n",
      "[{'assignment': 3, 'problem': 5, 'description': 'DF section 2.1: exercise 10', 'comment': None, 'due_date': None, 'video1': None, 'video2': None, 'special_notes': None, 'locked': 0, 'number_of_submissions': None, 'mean_score': None, 'median_score': None, 'std_dev': None, 'max_score': None, 'min_score': None, 'tdupuy': None, 'cvincen1': None, 'jschmoe': None, 'jdoe': None}]\n",
      "[{'assignment': 3, 'problem': 6, 'description': 'DF section 2.1: exercise 8', 'comment': 'so, except in trivial cases, the union of two subgroups is never a subgroup', 'due_date': None, 'video1': None, 'video2': None, 'special_notes': None, 'locked': 0, 'number_of_submissions': None, 'mean_score': None, 'median_score': None, 'std_dev': None, 'max_score': None, 'min_score': None, 'tdupuy': None, 'cvincen1': None, 'jschmoe': None, 'jdoe': None}]\n",
      "[{'assignment': 4, 'problem': 1, 'description': 'DF section 2.2: exercise 6', 'comment': \"for (a), H is already given as a group, so it's already closed - all you need to show is containment; a similar comment applies to (b)\", 'due_date': None, 'video1': None, 'video2': None, 'special_notes': None, 'locked': 0, 'number_of_submissions': None, 'mean_score': None, 'median_score': None, 'std_dev': None, 'max_score': None, 'min_score': None, 'tdupuy': None, 'cvincen1': None, 'jschmoe': None, 'jdoe': None}]\n",
      "[{'assignment': 4, 'problem': 2, 'description': 'DF section 2.3: exercises 1,4,5', 'comment': None, 'due_date': None, 'video1': None, 'video2': None, 'special_notes': None, 'locked': 0, 'number_of_submissions': None, 'mean_score': None, 'median_score': None, 'std_dev': None, 'max_score': None, 'min_score': None, 'tdupuy': None, 'cvincen1': None, 'jschmoe': None, 'jdoe': None}]\n",
      "[{'assignment': 4, 'problem': 3, 'description': 'DF section 2.3: exercise 26', 'comment': None, 'due_date': None, 'video1': None, 'video2': None, 'special_notes': None, 'locked': 0, 'number_of_submissions': None, 'mean_score': None, 'median_score': None, 'std_dev': None, 'max_score': None, 'min_score': None, 'tdupuy': None, 'cvincen1': None, 'jschmoe': None, 'jdoe': None}]\n",
      "[{'assignment': 4, 'problem': 4, 'description': 'DF section 2.4: exercises 14,15', 'comment': None, 'due_date': None, 'video1': None, 'video2': None, 'special_notes': None, 'locked': 0, 'number_of_submissions': None, 'mean_score': None, 'median_score': None, 'std_dev': None, 'max_score': None, 'min_score': None, 'tdupuy': None, 'cvincen1': None, 'jschmoe': None, 'jdoe': None}]\n",
      "[{'assignment': 4, 'problem': 5, 'description': 'DF section 2.5: exercise 11', 'comment': 'this is very easy - use the lattices for the smaller groups', 'due_date': None, 'video1': None, 'video2': None, 'special_notes': None, 'locked': 0, 'number_of_submissions': None, 'mean_score': None, 'median_score': None, 'std_dev': None, 'max_score': None, 'min_score': None, 'tdupuy': None, 'cvincen1': None, 'jschmoe': None, 'jdoe': None}]\n",
      "[{'assignment': 5, 'problem': 1, 'description': 'DF section 3.1: exercise 1', 'comment': 'Note: recall that the notation f^{-1}(A) means element that map to A under f (the \"full pre-image of A\") -- even though f^{-1} is NOT a function in general.', 'due_date': None, 'video1': None, 'video2': None, 'special_notes': None, 'locked': 0, 'number_of_submissions': None, 'mean_score': None, 'median_score': None, 'std_dev': None, 'max_score': None, 'min_score': None, 'tdupuy': None, 'cvincen1': None, 'jschmoe': None, 'jdoe': None}]\n",
      "[{'assignment': 5, 'problem': 2, 'description': 'DF section 3.1: exercises 6,7,8,9', 'comment': None, 'due_date': None, 'video1': None, 'video2': None, 'special_notes': None, 'locked': 0, 'number_of_submissions': None, 'mean_score': None, 'median_score': None, 'std_dev': None, 'max_score': None, 'min_score': None, 'tdupuy': None, 'cvincen1': None, 'jschmoe': None, 'jdoe': None}, {'assignment': 5, 'problem': 2, 'description': 'DF section 3.1: exercises 4,5', 'comment': None, 'due_date': None, 'video1': None, 'video2': None, 'special_notes': None, 'locked': 0, 'number_of_submissions': None, 'mean_score': None, 'median_score': None, 'std_dev': None, 'max_score': None, 'min_score': None, 'tdupuy': None, 'cvincen1': None, 'jschmoe': None, 'jdoe': None}]\n",
      "[]\n",
      "[{'assignment': 6, 'problem': 1, 'description': 'DF section 3.1: exercise 24', 'comment': None, 'due_date': None, 'video1': None, 'video2': None, 'special_notes': None, 'locked': 0, 'number_of_submissions': None, 'mean_score': None, 'median_score': None, 'std_dev': None, 'max_score': None, 'min_score': None, 'tdupuy': None, 'cvincen1': None, 'jschmoe': None, 'jdoe': None}]\n",
      "[{'assignment': 6, 'problem': 2, 'description': 'DF section 3.1: exercise 18', 'comment': None, 'due_date': None, 'video1': None, 'video2': None, 'special_notes': None, 'locked': 0, 'number_of_submissions': None, 'mean_score': None, 'median_score': None, 'std_dev': None, 'max_score': None, 'min_score': None, 'tdupuy': None, 'cvincen1': None, 'jschmoe': None, 'jdoe': None}]\n",
      "[{'assignment': 6, 'problem': 3, 'description': 'DF section 3.1: exercise 36', 'comment': None, 'due_date': None, 'video1': None, 'video2': None, 'special_notes': None, 'locked': 0, 'number_of_submissions': None, 'mean_score': None, 'median_score': None, 'std_dev': None, 'max_score': None, 'min_score': None, 'tdupuy': None, 'cvincen1': None, 'jschmoe': None, 'jdoe': None}]\n",
      "[{'assignment': 6, 'problem': 4, 'description': 'DF section 3.1: exercise 42', 'comment': None, 'due_date': None, 'video1': None, 'video2': None, 'special_notes': None, 'locked': 0, 'number_of_submissions': None, 'mean_score': None, 'median_score': None, 'std_dev': None, 'max_score': None, 'min_score': None, 'tdupuy': None, 'cvincen1': None, 'jschmoe': None, 'jdoe': None}]\n",
      "[{'assignment': 6, 'problem': 5, 'description': 'DF section 3.2: exercise 4', 'comment': None, 'due_date': None, 'video1': None, 'video2': None, 'special_notes': None, 'locked': 0, 'number_of_submissions': None, 'mean_score': None, 'median_score': None, 'std_dev': None, 'max_score': None, 'min_score': None, 'tdupuy': None, 'cvincen1': None, 'jschmoe': None, 'jdoe': None}]\n",
      "[{'assignment': 6, 'problem': 6, 'description': 'DF section 3.2: exercise 8', 'comment': None, 'due_date': None, 'video1': None, 'video2': None, 'special_notes': None, 'locked': 0, 'number_of_submissions': None, 'mean_score': None, 'median_score': None, 'std_dev': None, 'max_score': None, 'min_score': None, 'tdupuy': None, 'cvincen1': None, 'jschmoe': None, 'jdoe': None}]\n",
      "[{'assignment': 7, 'problem': 1, 'description': 'DF section 3.2: exercise 14', 'comment': None, 'due_date': None, 'video1': None, 'video2': None, 'special_notes': None, 'locked': 0, 'number_of_submissions': None, 'mean_score': None, 'median_score': None, 'std_dev': None, 'max_score': None, 'min_score': None, 'tdupuy': None, 'cvincen1': None, 'jschmoe': None, 'jdoe': None}]\n",
      "[{'assignment': 7, 'problem': 2, 'description': 'DF section 3.3: exercise 5', 'comment': \"Note: you've done a lot of work for this problem on the previous homework assignment - just quote the results you need from that previous work\", 'due_date': None, 'video1': None, 'video2': None, 'special_notes': None, 'locked': 0, 'number_of_submissions': None, 'mean_score': None, 'median_score': None, 'std_dev': None, 'max_score': None, 'min_score': None, 'tdupuy': None, 'cvincen1': None, 'jschmoe': None, 'jdoe': None}]\n",
      "[{'assignment': 7, 'problem': 3, 'description': 'DF section 3.3: exercise 6', 'comment': 'This is very similar to the previous exercise', 'due_date': None, 'video1': None, 'video2': None, 'special_notes': None, 'locked': 0, 'number_of_submissions': None, 'mean_score': None, 'median_score': None, 'std_dev': None, 'max_score': None, 'min_score': None, 'tdupuy': None, 'cvincen1': None, 'jschmoe': None, 'jdoe': None}]\n",
      "[{'assignment': 7, 'problem': 4, 'description': 'DF section 3.4: exercise 3', 'comment': None, 'due_date': None, 'video1': None, 'video2': None, 'special_notes': None, 'locked': 0, 'number_of_submissions': None, 'mean_score': None, 'median_score': None, 'std_dev': None, 'max_score': None, 'min_score': None, 'tdupuy': None, 'cvincen1': None, 'jschmoe': None, 'jdoe': None}]\n",
      "[{'assignment': 7, 'problem': 5, 'description': 'DF section 3.5: exercise 11', 'comment': None, 'due_date': None, 'video1': None, 'video2': None, 'special_notes': None, 'locked': 0, 'number_of_submissions': None, 'mean_score': None, 'median_score': None, 'std_dev': None, 'max_score': None, 'min_score': None, 'tdupuy': None, 'cvincen1': None, 'jschmoe': None, 'jdoe': None}]\n",
      "[{'assignment': 7, 'problem': 6, 'description': 'DF section 3.5: exercise 14', 'comment': 'possible hint: this is a one liner', 'due_date': None, 'video1': None, 'video2': None, 'special_notes': None, 'locked': 0, 'number_of_submissions': None, 'mean_score': None, 'median_score': None, 'std_dev': None, 'max_score': None, 'min_score': None, 'tdupuy': None, 'cvincen1': None, 'jschmoe': None, 'jdoe': None}]\n",
      "[{'assignment': 8, 'problem': 1, 'description': 'DF section 4.2: exercise 3', 'comment': None, 'due_date': None, 'video1': None, 'video2': None, 'special_notes': None, 'locked': 0, 'number_of_submissions': None, 'mean_score': None, 'median_score': None, 'std_dev': None, 'max_score': None, 'min_score': None, 'tdupuy': None, 'cvincen1': None, 'jschmoe': None, 'jdoe': None}]\n",
      "[{'assignment': 8, 'problem': 2, 'description': 'DF section 4.2: exercise 7', 'comment': 'possible hint: this is an application of our fundamental relation on sizes of orbits in group actions', 'due_date': None, 'video1': None, 'video2': None, 'special_notes': None, 'locked': 0, 'number_of_submissions': None, 'mean_score': None, 'median_score': None, 'std_dev': None, 'max_score': None, 'min_score': None, 'tdupuy': None, 'cvincen1': None, 'jschmoe': None, 'jdoe': None}]\n",
      "[{'assignment': 8, 'problem': 3, 'description': 'DF section 4.3: exercise 5', 'comment': None, 'due_date': None, 'video1': None, 'video2': None, 'special_notes': None, 'locked': None, 'number_of_submissions': None, 'mean_score': None, 'median_score': None, 'std_dev': None, 'max_score': None, 'min_score': None, 'tdupuy': None, 'cvincen1': None, 'jschmoe': None, 'jdoe': None}]\n",
      "[{'assignment': 8, 'problem': 4, 'description': 'DF section 4.3: execises 10, 11', 'comment': None, 'due_date': None, 'video1': None, 'video2': None, 'special_notes': None, 'locked': None, 'number_of_submissions': None, 'mean_score': None, 'median_score': None, 'std_dev': None, 'max_score': None, 'min_score': None, 'tdupuy': None, 'cvincen1': None, 'jschmoe': None, 'jdoe': None}]\n",
      "[{'assignment': 8, 'problem': 5, 'description': 'DF section 4.3: exercise 34', 'comment': None, 'due_date': None, 'video1': None, 'video2': None, 'special_notes': None, 'locked': None, 'number_of_submissions': None, 'mean_score': None, 'median_score': None, 'std_dev': None, 'max_score': None, 'min_score': None, 'tdupuy': None, 'cvincen1': None, 'jschmoe': None, 'jdoe': None}]\n",
      "[{'assignment': 9, 'problem': 1, 'description': 'DF section 5.2: parts (a) and (b) of exercises 1-3', 'comment': None, 'due_date': None, 'video1': None, 'video2': None, 'special_notes': None, 'locked': None, 'number_of_submissions': None, 'mean_score': None, 'median_score': None, 'std_dev': None, 'max_score': None, 'min_score': None, 'tdupuy': None, 'cvincen1': None, 'jschmoe': None, 'jdoe': None}]\n",
      "[{'assignment': 9, 'problem': 2, 'description': 'DF section 5.2: exercise 4', 'comment': None, 'due_date': None, 'video1': None, 'video2': None, 'special_notes': None, 'locked': None, 'number_of_submissions': None, 'mean_score': None, 'median_score': None, 'std_dev': None, 'max_score': None, 'min_score': None, 'tdupuy': None, 'cvincen1': None, 'jschmoe': None, 'jdoe': None}]\n",
      "[{'assignment': 9, 'problem': 3, 'description': 'DF section 4.5: exercise 14', 'comment': None, 'due_date': None, 'video1': None, 'video2': None, 'special_notes': None, 'locked': None, 'number_of_submissions': None, 'mean_score': None, 'median_score': None, 'std_dev': None, 'max_score': None, 'min_score': None, 'tdupuy': None, 'cvincen1': None, 'jschmoe': None, 'jdoe': None}]\n",
      "[{'assignment': 9, 'problem': 4, 'description': 'DF section 4.5: exercise 15', 'comment': None, 'due_date': None, 'video1': None, 'video2': None, 'special_notes': None, 'locked': None, 'number_of_submissions': None, 'mean_score': None, 'median_score': None, 'std_dev': None, 'max_score': None, 'min_score': None, 'tdupuy': None, 'cvincen1': None, 'jschmoe': None, 'jdoe': None}]\n",
      "[{'assignment': 9, 'problem': 5, 'description': 'DF section 4.5: exercise 15', 'comment': None, 'due_date': None, 'video1': None, 'video2': None, 'special_notes': None, 'locked': None, 'number_of_submissions': None, 'mean_score': None, 'median_score': None, 'std_dev': None, 'max_score': None, 'min_score': None, 'tdupuy': None, 'cvincen1': None, 'jschmoe': None, 'jdoe': None}]\n",
      "[{'assignment': 10, 'problem': 1, 'description': 'DF section 4.5: exercise 16', 'comment': None, 'due_date': None, 'video1': None, 'video2': None, 'special_notes': None, 'locked': None, 'number_of_submissions': None, 'mean_score': None, 'median_score': None, 'std_dev': None, 'max_score': None, 'min_score': None, 'tdupuy': None, 'cvincen1': None, 'jschmoe': None, 'jdoe': None}]\n",
      "[{'assignment': 10, 'problem': 2, 'description': 'DF section 4.5: exercise 27', 'comment': None, 'due_date': None, 'video1': None, 'video2': None, 'special_notes': None, 'locked': None, 'number_of_submissions': None, 'mean_score': None, 'median_score': None, 'std_dev': None, 'max_score': None, 'min_score': None, 'tdupuy': None, 'cvincen1': None, 'jschmoe': None, 'jdoe': None}]\n",
      "[{'assignment': 10, 'problem': 3, 'description': 'DF section 7.1: exercises 1,2,3', 'comment': None, 'due_date': None, 'video1': None, 'video2': None, 'special_notes': None, 'locked': None, 'number_of_submissions': None, 'mean_score': None, 'median_score': None, 'std_dev': None, 'max_score': None, 'min_score': None, 'tdupuy': None, 'cvincen1': None, 'jschmoe': None, 'jdoe': None}]\n",
      "[{'assignment': 10, 'problem': 4, 'description': 'DF section 7.1: exercises 5,6. Submit solutions to 5(a,f), 6(c,f)', 'comment': None, 'due_date': None, 'video1': None, 'video2': None, 'special_notes': None, 'locked': None, 'number_of_submissions': None, 'mean_score': None, 'median_score': None, 'std_dev': None, 'max_score': None, 'min_score': None, 'tdupuy': None, 'cvincen1': None, 'jschmoe': None, 'jdoe': None}]\n",
      "[{'assignment': 10, 'problem': 5, 'description': 'DF section 7.1: exercise 11. Also give an example of a ring R that is not an integral domain for which x^2=1 does not imply that x=-1 or x=1.', 'comment': None, 'due_date': None, 'video1': None, 'video2': None, 'special_notes': None, 'locked': None, 'number_of_submissions': None, 'mean_score': None, 'median_score': None, 'std_dev': None, 'max_score': None, 'min_score': None, 'tdupuy': None, 'cvincen1': None, 'jschmoe': None, 'jdoe': None}]\n",
      "[{'assignment': 10, 'problem': 6, 'description': 'DF section 7.1: exercises 15,16', 'comment': None, 'due_date': None, 'video1': None, 'video2': None, 'special_notes': None, 'locked': None, 'number_of_submissions': None, 'mean_score': None, 'median_score': None, 'std_dev': None, 'max_score': None, 'min_score': None, 'tdupuy': None, 'cvincen1': None, 'jschmoe': None, 'jdoe': None}]\n",
      "[{'assignment': 11, 'problem': 1, 'description': 'DF section 7.3: exercise 10', 'comment': None, 'due_date': None, 'video1': None, 'video2': None, 'special_notes': None, 'locked': None, 'number_of_submissions': None, 'mean_score': None, 'median_score': None, 'std_dev': None, 'max_score': None, 'min_score': None, 'tdupuy': None, 'cvincen1': None, 'jschmoe': None, 'jdoe': None}]\n",
      "[{'assignment': 11, 'problem': 2, 'description': 'DF section 7.3: exercise 34', 'comment': None, 'due_date': None, 'video1': None, 'video2': None, 'special_notes': None, 'locked': None, 'number_of_submissions': None, 'mean_score': None, 'median_score': None, 'std_dev': None, 'max_score': None, 'min_score': None, 'tdupuy': None, 'cvincen1': None, 'jschmoe': None, 'jdoe': None}]\n",
      "[{'assignment': 11, 'problem': 3, 'description': 'DF section 9.1: exercises 4,5 ', 'comment': 'These are one-liners.', 'due_date': None, 'video1': None, 'video2': None, 'special_notes': None, 'locked': None, 'number_of_submissions': None, 'mean_score': None, 'median_score': None, 'std_dev': None, 'max_score': None, 'min_score': None, 'tdupuy': None, 'cvincen1': None, 'jschmoe': None, 'jdoe': None}]\n",
      "[{'assignment': 12, 'problem': 1, 'description': 'Construct finite fields of the following orders: 8, 16, 25, 27, 125', 'comment': 'See section 7.4 of DF or the handout. ', 'due_date': None, 'video1': None, 'video2': None, 'special_notes': None, 'locked': None, 'number_of_submissions': None, 'mean_score': None, 'median_score': None, 'std_dev': None, 'max_score': None, 'min_score': None, 'tdupuy': None, 'cvincen1': None, 'jschmoe': None, 'jdoe': None}]\n"
     ]
    }
   ],
   "source": [
    "for p in session.query(Problem).all():\n",
    "    #print(p)\n",
    "    results=P.get({\"assignment\":int(p.assignment),\"problem\":int(p.problem)})\n",
    "    print(results)\n",
    "    if len(results)==1:\n",
    "        #print(results[0])\n",
    "        result = results[0]\n",
    "        p.description=result['description']\n",
    "        p.hints=result['comment']\n",
    "        if result['due_date']==None:\n",
    "            pass\n",
    "        else:\n",
    "            p.due_date=result['due_date'].timestamp()\n",
    "        #print(p.due_date)\n",
    "        p.course=algebra\n",
    "        #print(p.course) this seems to be storing things properly\n",
    "session.commit()"
   ]
  },
  {
   "cell_type": "code",
   "execution_count": 22,
   "metadata": {},
   "outputs": [
    {
     "name": "stdout",
     "output_type": "stream",
     "text": [
      "<database_declarative.Problem object at 0x1158dc630>\n",
      "None\n",
      "None\n",
      "<database_declarative.Course object at 0x10dbf3438>\n"
     ]
    }
   ],
   "source": [
    "algebra2=session.query(Course).all()[0] #this returned something nontrivial\n",
    "#print(algebra2.problems)\n",
    "myproblem = session.query(Problem).all()[3]\n",
    "print(myproblem)\n",
    "print(myproblem.hints) #this should be None most of the time\n",
    "print(myproblem.due_date) #this is working now, the zeroeth problem doesn't work\n",
    "print(myproblem.course)"
   ]
  },
  {
   "cell_type": "code",
   "execution_count": 15,
   "metadata": {},
   "outputs": [
    {
     "name": "stdout",
     "output_type": "stream",
     "text": [
      "<database_declarative.Problem object at 0x1208fc828>\n",
      "<database_declarative.Course object at 0x120923be0>\n",
      "[<database_declarative.Problem object at 0x1208fc828>]\n"
     ]
    }
   ],
   "source": [
    "print(myproblem)\n",
    "myproblem.course=algebra\n",
    "print(myproblem.course)\n",
    "print(algebra.problems) #this is outputting stuff now. Before it seems we were not recording the problems correctly."
   ]
  },
  {
   "cell_type": "code",
   "execution_count": 23,
   "metadata": {},
   "outputs": [],
   "source": [
    "#session.rollback()\n",
    "myusers = R.get({})\n",
    "\n",
    "# Insert a Person in the person table\n",
    "for x in myusers:\n",
    "    new_person = User(\n",
    "        name = x['name'],\n",
    "        pronoun=x['pronoun'],\n",
    "        uvm_student=1,\n",
    "        student_id = x['student_id'],\n",
    "        courses = 'algebra-one/f/20',\n",
    "        major = x['major'],\n",
    "        degree = x['degree'],\n",
    "        credits = x['credits'],\n",
    "        reg_status = x['reg_status'],\n",
    "        reg_data = x['reg_data'],\n",
    "        email = x['email'].lower(),\n",
    "        netid = x['netid'],\n",
    "        password = generate_password_hash(x['password'],method='sha256'),\n",
    "        config={'courses':[{'id':algebra.id,'group':'user'}],'emails':[],'super_user':0})\n",
    "    session.add(new_person)\n",
    "\n",
    "session.commit()"
   ]
  },
  {
   "cell_type": "code",
   "execution_count": 24,
   "metadata": {},
   "outputs": [],
   "source": [
    "mysubs = S.get({})\n",
    "for x in mysubs:\n",
    "    new_sub = Submission(\n",
    "        coursename = 'algebra-one',\n",
    "        year = '2020',\n",
    "        term = 'f',\n",
    "        submission_number = x['submission_number'],\n",
    "        submission_locked = x['submission_locked'],\n",
    "        netid = x['netid'],\n",
    "        email = get_email(x['netid']),\n",
    "        assignment = x['assignment'],\n",
    "        problem = x['problem'],\n",
    "        closed = x['closed'],\n",
    "        submission_time = x['submission_time'],\n",
    "        total_score1 = x['total_score1'],\n",
    "        total_score2 = x['total_score2'],\n",
    "        reviewer1_assignment_time =x['reviewer1_assignment_time'],\n",
    "        reviewer1 = x['reviewer1'],\n",
    "        reviewer1_email = '',\n",
    "        reviewer1_score = x['reviewer1_score'],\n",
    "        review1 = x['review1'],\n",
    "        review1_timestamp = x['review1_timestamp'],\n",
    "        review1_locked = x['review1_locked'],\n",
    "        #bad1, bad2\n",
    "        reviewer2_assignment_time =x['reviewer2_assignment_time'],\n",
    "        reviewer2 = x['reviewer2'],\n",
    "        reviewer2_email = '',\n",
    "        reviewer2_score = x['reviewer2_score'],\n",
    "        review2 = x['review2'],\n",
    "        review2_timestamp = x['review2_timestamp'],\n",
    "        review2_locked = x['review2_locked'],\n",
    "        new_submission = x['new_submission'],\n",
    "        new_match = x['new_match'],\n",
    "        new_review1 = x['new_review1'],\n",
    "        new_review2 = x['new_review2'],\n",
    "        new_completion = x['new_completion'])\n",
    "    session.add(new_sub)\n",
    "\n",
    "session.commit()"
   ]
  },
  {
   "cell_type": "code",
   "execution_count": 25,
   "metadata": {},
   "outputs": [],
   "source": [
    "#need to correct the submissions\n",
    "for s in session.query(Submission).all():\n",
    "    prob=session.query(Problem).filter(and_(\n",
    "        Problem.coursename==s.coursename,\n",
    "        Problem.problem==s.problem,\n",
    "        Problem.assignment==s.assignment)).first()\n",
    "    course=session.query(Course).filter(\n",
    "        Course.coursename==s.coursename).first()\n",
    "    user=session.query(User).filter(User.netid==s.netid).first()\n",
    "    s.prob=prob\n",
    "    s.course=course\n",
    "    s.user=user\n",
    "session.commit()"
   ]
  },
  {
   "cell_type": "code",
   "execution_count": 26,
   "metadata": {},
   "outputs": [
    {
     "data": {
      "text/plain": [
       "'tyler.bloom@uvm.edu'"
      ]
     },
     "execution_count": 26,
     "metadata": {},
     "output_type": "execute_result"
    }
   ],
   "source": [
    "#this needs to be fixed for AGITTOC\n",
    "student = 'tfbloom'\n",
    "myuser = session.query(User).filter(User.netid==student).first()\n",
    "email=myuser.email\n",
    "subs=session.query(Submission).filter(Submission.email==email)\n",
    "email"
   ]
  },
  {
   "cell_type": "code",
   "execution_count": 27,
   "metadata": {},
   "outputs": [
    {
     "name": "stdout",
     "output_type": "stream",
     "text": [
      "0\n",
      "[<database_declarative.Submission object at 0x11589fd30>, <database_declarative.Submission object at 0x11589f4e0>, <database_declarative.Submission object at 0x11589f748>, <database_declarative.Submission object at 0x11589f898>, <database_declarative.Submission object at 0x11589f828>, <database_declarative.Submission object at 0x11589f128>, <database_declarative.Submission object at 0x11589f0f0>, <database_declarative.Submission object at 0x11589f278>, <database_declarative.Submission object at 0x11589f400>, <database_declarative.Submission object at 0x11589f390>, <database_declarative.Submission object at 0x11589f320>, <database_declarative.Submission object at 0x11589fa20>]\n",
      "[<database_declarative.Submission object at 0x11589ff28>, <database_declarative.Submission object at 0x11589fcc0>, <database_declarative.Submission object at 0x1155cdda0>, <database_declarative.Submission object at 0x1155cd8d0>, <database_declarative.Submission object at 0x1155cd710>, <database_declarative.Submission object at 0x11589f278>, <database_declarative.Submission object at 0x1155cd390>, <database_declarative.Submission object at 0x1155cd630>, <database_declarative.Submission object at 0x1155cd780>, <database_declarative.Submission object at 0x1155cd208>, <database_declarative.Submission object at 0x1155cd908>, <database_declarative.Submission object at 0x1155cd240>]\n"
     ]
    }
   ],
   "source": [
    "print(myuser.config['super_user'])\n",
    "print(myuser.submissions) #\n",
    "print(myproblem.submissions) #"
   ]
  },
  {
   "cell_type": "code",
   "execution_count": 21,
   "metadata": {},
   "outputs": [
    {
     "data": {
      "text/plain": [
       "[]"
      ]
     },
     "execution_count": 21,
     "metadata": {},
     "output_type": "execute_result"
    }
   ],
   "source": [
    "reviewsubs = session.query(Submission).filter( or_(Submission.reviewer1_email==email,Submission.reviewer2_email==email)).all()\n",
    "reviewsubs"
   ]
  },
  {
   "cell_type": "code",
   "execution_count": 22,
   "metadata": {},
   "outputs": [],
   "source": [
    "fresh_subs=session.query(Submission).filter(and_(Submission.netid==student, Submission.new_submission==1) ).all()\n",
    "matched_subs=session.query(Submission).filter(and_(Submission.netid==student, Submission.submission_locked==1)).all()\n",
    "\n",
    "first_reviews = []\n",
    "for s in matched_subs:\n",
    "    if is_reviewed(s):\n",
    "        first_reviews.append(s)\n",
    "\n",
    "for c in first_reviews:\n",
    "    matched_subs.remove(c)        \n",
    "        \n",
    "completed =[]\n",
    "for s in first_reviews:\n",
    "    if is_complete(s):\n",
    "        completed.append(s)\n",
    "        \n",
    "for c in completed:\n",
    "    first_reviews.remove(c)\n",
    "\n",
    "fresh_subs=sorted(fresh_subs,key=lambda c: [c.assignment,c.problem])\n",
    "matched_subs=sorted(matched_subs,key=lambda c: [c.assignment,c.problem])\n",
    "first_reviews = sorted(first_reviews,key=lambda c: [c.assignment,c.problem])\n",
    "completed=sorted(completed,key=lambda c: [c.assignment,c.problem])"
   ]
  },
  {
   "cell_type": "code",
   "execution_count": 23,
   "metadata": {},
   "outputs": [
    {
     "name": "stdout",
     "output_type": "stream",
     "text": [
      "223 (matched): assignment 2, problem 1\n",
      "306 (matched): assignment 3, problem 3\n",
      "431 (matched): assignment 4, problem 1\n",
      "432 (matched): assignment 4, problem 2\n",
      "433 (matched): assignment 4, problem 4\n",
      "308 (first review done): assignment 3, problem 6\n",
      "35 (complete): assignment 1, problem 2\n",
      "36 (complete): assignment 1, problem 3\n",
      "37 (complete): assignment 1, problem 5\n",
      "224 (complete): assignment 2, problem 3\n",
      "225 (complete): assignment 2, problem 5\n",
      "307 (complete): assignment 3, problem 5\n"
     ]
    }
   ],
   "source": [
    "for s in fresh_subs:\n",
    "    print(f\"{s.submission_number} (waiting): assignment {s.assignment}, problem {s.problem}\")\n",
    "    \n",
    "for s in matched_subs:\n",
    "    print(f\"{s.submission_number} (matched): assignment {s.assignment}, problem {s.problem}\")\n",
    "    \n",
    "for s in first_reviews:\n",
    "    print(f\"{s.submission_number} (first review done): assignment {s.assignment}, problem {s.problem}\")\n",
    "    \n",
    "for s in completed:\n",
    "    print(f\"{s.submission_number} (complete): assignment {s.assignment}, problem {s.problem}\")\n",
    "    "
   ]
  },
  {
   "cell_type": "code",
   "execution_count": 24,
   "metadata": {},
   "outputs": [
    {
     "data": {
      "text/plain": [
       "'\\ncompleted =[]\\nfor s in subs:\\n    if is_complete(s):\\n        completed.append(s)\\n\\nfresh_subs=sorted(fresh_subs,key=lambda c: [c.assignment,c.problem])\\nmatched_subs=sorted(matched_subs,key=lambda c: [c.assignment,c.problem])\\ncompleted=sorted(completed,key=lambda c: [c.assignment,c.problem])\\n'"
      ]
     },
     "execution_count": 24,
     "metadata": {},
     "output_type": "execute_result"
    }
   ],
   "source": [
    "\"\"\"\n",
    "completed =[]\n",
    "for s in subs:\n",
    "    if is_complete(s):\n",
    "        completed.append(s)\n",
    "\n",
    "fresh_subs=sorted(fresh_subs,key=lambda c: [c.assignment,c.problem])\n",
    "matched_subs=sorted(matched_subs,key=lambda c: [c.assignment,c.problem])\n",
    "completed=sorted(completed,key=lambda c: [c.assignment,c.problem])\n",
    "\"\"\""
   ]
  },
  {
   "cell_type": "code",
   "execution_count": 25,
   "metadata": {},
   "outputs": [
    {
     "name": "stdout",
     "output_type": "stream",
     "text": [
      "35: assignment 1, problem 2, score 9.333333333333332\n",
      "36: assignment 1, problem 3, score 10.0\n",
      "37: assignment 1, problem 5, score 10.0\n",
      "224: assignment 2, problem 3, score 10.0\n",
      "225: assignment 2, problem 5, score 8.538461538461538\n",
      "307: assignment 3, problem 5, score 10.0\n"
     ]
    }
   ],
   "source": [
    "for c in completed:\n",
    "    print(f\"{c.submission_number}: assignment {c.assignment}, problem {c.problem}, score {c.total_score2}\")"
   ]
  },
  {
   "cell_type": "code",
   "execution_count": 26,
   "metadata": {},
   "outputs": [],
   "source": [
    "closed_subs=[s.submission_number for s in subs.filter(Submission.closed==1)]"
   ]
  },
  {
   "cell_type": "markdown",
   "metadata": {},
   "source": [
    "completed"
   ]
  },
  {
   "cell_type": "code",
   "execution_count": 27,
   "metadata": {},
   "outputs": [],
   "source": [
    "s=subs[0]"
   ]
  },
  {
   "cell_type": "code",
   "execution_count": 28,
   "metadata": {},
   "outputs": [
    {
     "data": {
      "text/plain": [
       "'whe3'"
      ]
     },
     "execution_count": 28,
     "metadata": {},
     "output_type": "execute_result"
    }
   ],
   "source": [
    "s.reviewer1\n",
    "s.reviewer2"
   ]
  },
  {
   "cell_type": "code",
   "execution_count": 29,
   "metadata": {},
   "outputs": [
    {
     "name": "stdout",
     "output_type": "stream",
     "text": [
      "submission number: 223, author: tfbloom, reviewer 1: rabbott1, reviewer2: whe3\n",
      " submission number: 226; assignment 2, problem 1, reviewer id rabbott1\n",
      " submission number: 205; assignment 2, problem 1, reviewer id whe3\n"
     ]
    }
   ],
   "source": [
    "is_reviewed(s)\n",
    "a=s.assignment\n",
    "p=s.problem\n",
    "r1 = s.reviewer1\n",
    "r2 = s.reviewer2\n",
    "print(f'submission number: {s.submission_number}, author: {s.netid}, reviewer 1: {r1}, reviewer2: {r2}') \n",
    "reviews = session.query(Submission).filter( and_(or_(Submission.netid==r1,Submission.netid==r2),Submission.assignment ==a,Submission.problem ==p))\n",
    "for rev in reviews:\n",
    "    print(f\" submission number: {rev.submission_number}; assignment {rev.assignment}, problem {rev.problem}, reviewer id {rev.netid}\")"
   ]
  },
  {
   "cell_type": "code",
   "execution_count": 45,
   "metadata": {},
   "outputs": [
    {
     "data": {
      "text/plain": [
       "False"
      ]
     },
     "execution_count": 45,
     "metadata": {},
     "output_type": "execute_result"
    }
   ],
   "source": [
    "is_complete(s)"
   ]
  },
  {
   "cell_type": "code",
   "execution_count": null,
   "metadata": {},
   "outputs": [],
   "source": [
    "s.review1_timestamp"
   ]
  },
  {
   "cell_type": "code",
   "execution_count": 37,
   "metadata": {},
   "outputs": [
    {
     "ename": "SyntaxError",
     "evalue": "invalid syntax (<ipython-input-37-db720c296e9f>, line 5)",
     "output_type": "error",
     "traceback": [
      "\u001b[0;36m  File \u001b[0;32m\"<ipython-input-37-db720c296e9f>\"\u001b[0;36m, line \u001b[0;32m5\u001b[0m\n\u001b[0;31m    myemail['sender'] ==\u001b[0m\n\u001b[0m                         ^\u001b[0m\n\u001b[0;31mSyntaxError\u001b[0m\u001b[0;31m:\u001b[0m invalid syntax\n"
     ]
    }
   ],
   "source": [
    "def poke_reviewers(sub_num):\n",
    "    subject = \"re\"\n",
    "    sub=session.query(Submission).filter(Submission.submission_number=sub_num)\n",
    "    if s.review1_timestamp==-1:\n",
    "        myemail['sender'] == \n",
    "        out_msg=send_email(myemail)\n",
    "    if s.review2_timestamp==-1:        "
   ]
  },
  {
   "cell_type": "code",
   "execution_count": null,
   "metadata": {},
   "outputs": [],
   "source": [
    "    emails[user]['subject'] = course_name + \" Database Updates \" + (\"%s\" % datetime.datetime.now())\n",
    "    #emails[user]['message_parts'] = {}\n",
    "    emails[user]['message'] =''\n",
    "    emails[user]['attachments'] = []\n",
    "    emails[user]['receiver'] = R.get({'netid':user})[0]['email']"
   ]
  },
  {
   "cell_type": "code",
   "execution_count": 17,
   "metadata": {},
   "outputs": [],
   "source": [
    "matched_subs = session.query(Submission).filter( or_(Submission.netid==student,Submission.netid==student)).all()"
   ]
  },
  {
   "cell_type": "code",
   "execution_count": 18,
   "metadata": {},
   "outputs": [],
   "source": [
    "first_reviews = []\n",
    "for s in matched_subs:\n",
    "    if is_reviewed(s):\n",
    "        first_reviews.append(s)\n",
    "\n",
    "for c in first_reviews:\n",
    "    matched_subs.remove(c)        \n",
    "        \n",
    "completed =[]\n",
    "for s in first_reviews:\n",
    "    if is_complete(s):\n",
    "        completed.append(s)\n",
    "        \n",
    "for c in completed:\n",
    "    first_reviews.remove(c)\n",
    "\n",
    "matched_subs=sorted(matched_subs,key=lambda c: [c.assignment,c.problem])\n",
    "first_reviews = sorted(first_reviews,key=lambda c: [c.assignment,c.problem])\n",
    "completed=sorted(completed,key=lambda c: [c.assignment,c.problem])"
   ]
  },
  {
   "cell_type": "code",
   "execution_count": 16,
   "metadata": {},
   "outputs": [
    {
     "data": {
      "text/plain": [
       "'algebra-one'"
      ]
     },
     "execution_count": 16,
     "metadata": {},
     "output_type": "execute_result"
    }
   ],
   "source": [
    "session.query(Course).all()[0].coursename"
   ]
  },
  {
   "cell_type": "code",
   "execution_count": 16,
   "metadata": {},
   "outputs": [
    {
     "data": {
      "text/plain": [
       "['a', 'b', 'c']"
      ]
     },
     "execution_count": 16,
     "metadata": {},
     "output_type": "execute_result"
    }
   ],
   "source": [
    "mydict={\"a\":1,\"b\":2,\"c\":3}\n",
    "list(mydict.keys())"
   ]
  },
  {
   "cell_type": "code",
   "execution_count": 11,
   "metadata": {},
   "outputs": [],
   "source": [
    "x=None"
   ]
  },
  {
   "cell_type": "code",
   "execution_count": 12,
   "metadata": {},
   "outputs": [
    {
     "data": {
      "text/plain": [
       "True"
      ]
     },
     "execution_count": 12,
     "metadata": {},
     "output_type": "execute_result"
    }
   ],
   "source": [
    "x==None"
   ]
  },
  {
   "cell_type": "code",
   "execution_count": 13,
   "metadata": {},
   "outputs": [
    {
     "data": {
      "text/plain": [
       "False"
      ]
     },
     "execution_count": 13,
     "metadata": {},
     "output_type": "execute_result"
    }
   ],
   "source": [
    "y=1\n",
    "y==None"
   ]
  }
 ],
 "metadata": {
  "kernelspec": {
   "display_name": "Python 3",
   "language": "python",
   "name": "python3"
  },
  "language_info": {
   "codemirror_mode": {
    "name": "ipython",
    "version": 3
   },
   "file_extension": ".py",
   "mimetype": "text/x-python",
   "name": "python",
   "nbconvert_exporter": "python",
   "pygments_lexer": "ipython3",
   "version": "3.7.3"
  }
 },
 "nbformat": 4,
 "nbformat_minor": 4
}
